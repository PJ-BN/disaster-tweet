{
 "cells": [
  {
   "cell_type": "markdown",
   "id": "59a534c1",
   "metadata": {},
   "source": [
    "# Project :Disaster-Tweet\n",
    "\n",
    "    The propose of this notebook is to create a NLP model which classifies the tweet into two part:\n",
    "    * Disaster-tweet :\n",
    "                All the tweet which contains information about the natural disaster happening around the globe will be                         classified as disaster tweet\n",
    "    * Non-disaster tweet :\n",
    "                Except disaster tweet all remaining other tweets is classified as non-disaster tweet"
   ]
  },
  {
   "cell_type": "markdown",
   "id": "48613d3e",
   "metadata": {},
   "source": [
    "## Importing all needed module"
   ]
  },
  {
   "cell_type": "code",
   "execution_count": 1,
   "id": "7cfea9a4",
   "metadata": {},
   "outputs": [],
   "source": [
    "import tensorflow as tf\n",
    "import pandas as pd\n",
    "import tensorflow.keras as keras\n",
    "import tensorflow.keras.layers as layers\n",
    "import matplotlib.pyplot as plt\n",
    "from sklearn.model_selection import train_test_split\n",
    "import numpy as np"
   ]
  },
  {
   "cell_type": "markdown",
   "id": "f8856799",
   "metadata": {},
   "source": [
    "## Setting up my own helper module"
   ]
  },
  {
   "cell_type": "code",
   "execution_count": 4,
   "id": "f7cb8881",
   "metadata": {},
   "outputs": [
    {
     "name": "stderr",
     "output_type": "stream",
     "text": [
      "--2023-02-23 16:37:03--  https://raw.githubusercontent.com/PJ-BN/Helper-module/main/helperfunc.py\n",
      "Resolving raw.githubusercontent.com (raw.githubusercontent.com)... 185.199.110.133, 185.199.111.133, 185.199.108.133, ...\n",
      "Connecting to raw.githubusercontent.com (raw.githubusercontent.com)|185.199.110.133|:443... connected.\n",
      "HTTP request sent, awaiting response... 200 OK\n",
      "Length: 10449 (10K) [text/plain]\n",
      "Saving to: 'helperfunc.py.1'\n",
      "\n",
      "     0K ..........                                            100%  621K=0.02s\n",
      "\n",
      "2023-02-23 16:37:03 (621 KB/s) - 'helperfunc.py.1' saved [10449/10449]\n",
      "\n"
     ]
    }
   ],
   "source": [
    "!wget https://raw.githubusercontent.com/PJ-BN/Helper-module/main/helperfunc.py"
   ]
  },
  {
   "cell_type": "code",
   "execution_count": 2,
   "id": "10e7c37f",
   "metadata": {},
   "outputs": [],
   "source": [
    "from helperfunc import calculate_results"
   ]
  },
  {
   "cell_type": "markdown",
   "id": "43c40996",
   "metadata": {},
   "source": [
    "## Get the data"
   ]
  },
  {
   "cell_type": "code",
   "execution_count": 3,
   "id": "3a68ad65",
   "metadata": {},
   "outputs": [],
   "source": [
    "data_dir =\"C:\\\\Users\\\\USER\\\\Documents\\\\ML\\\\NLP\\\\disaster\\\\src\\\\disaster-tweet\\\\\"\n",
    "train_data_dir = data_dir + \"train.csv\"\n",
    "test_data_dir = data_dir + \"test.csv\""
   ]
  },
  {
   "cell_type": "markdown",
   "id": "01c7bd08",
   "metadata": {},
   "source": [
    "## Visualizing the data"
   ]
  },
  {
   "cell_type": "code",
   "execution_count": 58,
   "id": "115d5621",
   "metadata": {},
   "outputs": [
    {
     "data": {
      "text/html": [
       "<div>\n",
       "<style scoped>\n",
       "    .dataframe tbody tr th:only-of-type {\n",
       "        vertical-align: middle;\n",
       "    }\n",
       "\n",
       "    .dataframe tbody tr th {\n",
       "        vertical-align: top;\n",
       "    }\n",
       "\n",
       "    .dataframe thead th {\n",
       "        text-align: right;\n",
       "    }\n",
       "</style>\n",
       "<table border=\"1\" class=\"dataframe\">\n",
       "  <thead>\n",
       "    <tr style=\"text-align: right;\">\n",
       "      <th></th>\n",
       "      <th>id</th>\n",
       "      <th>keyword</th>\n",
       "      <th>location</th>\n",
       "      <th>text</th>\n",
       "      <th>target</th>\n",
       "    </tr>\n",
       "  </thead>\n",
       "  <tbody>\n",
       "    <tr>\n",
       "      <th>0</th>\n",
       "      <td>1</td>\n",
       "      <td>none</td>\n",
       "      <td>none</td>\n",
       "      <td>Our Deeds are the Reason of this #earthquake M...</td>\n",
       "      <td>1</td>\n",
       "    </tr>\n",
       "    <tr>\n",
       "      <th>1</th>\n",
       "      <td>4</td>\n",
       "      <td>none</td>\n",
       "      <td>none</td>\n",
       "      <td>Forest fire near La Ronge Sask. Canada</td>\n",
       "      <td>1</td>\n",
       "    </tr>\n",
       "    <tr>\n",
       "      <th>2</th>\n",
       "      <td>5</td>\n",
       "      <td>none</td>\n",
       "      <td>none</td>\n",
       "      <td>All residents asked to 'shelter in place' are ...</td>\n",
       "      <td>1</td>\n",
       "    </tr>\n",
       "    <tr>\n",
       "      <th>3</th>\n",
       "      <td>6</td>\n",
       "      <td>none</td>\n",
       "      <td>none</td>\n",
       "      <td>13,000 people receive #wildfires evacuation or...</td>\n",
       "      <td>1</td>\n",
       "    </tr>\n",
       "    <tr>\n",
       "      <th>4</th>\n",
       "      <td>7</td>\n",
       "      <td>none</td>\n",
       "      <td>none</td>\n",
       "      <td>Just got sent this photo from Ruby #Alaska as ...</td>\n",
       "      <td>1</td>\n",
       "    </tr>\n",
       "  </tbody>\n",
       "</table>\n",
       "</div>"
      ],
      "text/plain": [
       "   id keyword location                                               text  \\\n",
       "0   1    none     none  Our Deeds are the Reason of this #earthquake M...   \n",
       "1   4    none     none             Forest fire near La Ronge Sask. Canada   \n",
       "2   5    none     none  All residents asked to 'shelter in place' are ...   \n",
       "3   6    none     none  13,000 people receive #wildfires evacuation or...   \n",
       "4   7    none     none  Just got sent this photo from Ruby #Alaska as ...   \n",
       "\n",
       "   target  \n",
       "0       1  \n",
       "1       1  \n",
       "2       1  \n",
       "3       1  \n",
       "4       1  "
      ]
     },
     "execution_count": 58,
     "metadata": {},
     "output_type": "execute_result"
    }
   ],
   "source": [
    "train_data = pd.read_csv(train_data_dir )\n",
    "test_data = pd.read_csv(test_data_dir)                         \n",
    "\n",
    "train_data = train_data.fillna(\"none\")  \n",
    "test_data = test_data.fillna(\"none\")  \n",
    "\n",
    "train_data.head()\n"
   ]
  },
  {
   "cell_type": "code",
   "execution_count": 59,
   "id": "6989c12e",
   "metadata": {},
   "outputs": [
    {
     "name": "stdout",
     "output_type": "stream",
     "text": [
      "<class 'pandas.core.frame.DataFrame'>\n",
      "RangeIndex: 7613 entries, 0 to 7612\n",
      "Data columns (total 5 columns):\n",
      " #   Column    Non-Null Count  Dtype \n",
      "---  ------    --------------  ----- \n",
      " 0   id        7613 non-null   int64 \n",
      " 1   keyword   7613 non-null   object\n",
      " 2   location  7613 non-null   object\n",
      " 3   text      7613 non-null   object\n",
      " 4   target    7613 non-null   int64 \n",
      "dtypes: int64(2), object(3)\n",
      "memory usage: 297.5+ KB\n"
     ]
    }
   ],
   "source": [
    "train_data.info()"
   ]
  },
  {
   "cell_type": "code",
   "execution_count": 60,
   "id": "9371b98a",
   "metadata": {},
   "outputs": [
    {
     "data": {
      "text/plain": [
       "0    4342\n",
       "1    3271\n",
       "Name: target, dtype: int64"
      ]
     },
     "execution_count": 60,
     "metadata": {},
     "output_type": "execute_result"
    }
   ],
   "source": [
    "train_data[\"target\"].value_counts()"
   ]
  },
  {
   "cell_type": "code",
   "execution_count": 61,
   "id": "c9a93340",
   "metadata": {},
   "outputs": [],
   "source": [
    "train_text = train_data[\"text\"]\n",
    "train_label = train_data[\"target\"]\n",
    "train_location = train_data[\"location\"]\n",
    "train_keyword = train_data[\"keyword\"]\n",
    "\n",
    "test_text = test_data[\"text\"]\n",
    "test_location = test_data[\"location\"]\n",
    "test_keyword = test_data[\"keyword\"]"
   ]
  },
  {
   "cell_type": "code",
   "execution_count": 62,
   "id": "471974e9",
   "metadata": {},
   "outputs": [
    {
     "data": {
      "text/html": [
       "<div>\n",
       "<style scoped>\n",
       "    .dataframe tbody tr th:only-of-type {\n",
       "        vertical-align: middle;\n",
       "    }\n",
       "\n",
       "    .dataframe tbody tr th {\n",
       "        vertical-align: top;\n",
       "    }\n",
       "\n",
       "    .dataframe thead th {\n",
       "        text-align: right;\n",
       "    }\n",
       "</style>\n",
       "<table border=\"1\" class=\"dataframe\">\n",
       "  <thead>\n",
       "    <tr style=\"text-align: right;\">\n",
       "      <th></th>\n",
       "      <th>id</th>\n",
       "      <th>keyword</th>\n",
       "      <th>location</th>\n",
       "      <th>text</th>\n",
       "    </tr>\n",
       "  </thead>\n",
       "  <tbody>\n",
       "    <tr>\n",
       "      <th>0</th>\n",
       "      <td>0</td>\n",
       "      <td>none</td>\n",
       "      <td>none</td>\n",
       "      <td>Just happened a terrible car crash</td>\n",
       "    </tr>\n",
       "    <tr>\n",
       "      <th>1</th>\n",
       "      <td>2</td>\n",
       "      <td>none</td>\n",
       "      <td>none</td>\n",
       "      <td>Heard about #earthquake is different cities, s...</td>\n",
       "    </tr>\n",
       "    <tr>\n",
       "      <th>2</th>\n",
       "      <td>3</td>\n",
       "      <td>none</td>\n",
       "      <td>none</td>\n",
       "      <td>there is a forest fire at spot pond, geese are...</td>\n",
       "    </tr>\n",
       "    <tr>\n",
       "      <th>3</th>\n",
       "      <td>9</td>\n",
       "      <td>none</td>\n",
       "      <td>none</td>\n",
       "      <td>Apocalypse lighting. #Spokane #wildfires</td>\n",
       "    </tr>\n",
       "    <tr>\n",
       "      <th>4</th>\n",
       "      <td>11</td>\n",
       "      <td>none</td>\n",
       "      <td>none</td>\n",
       "      <td>Typhoon Soudelor kills 28 in China and Taiwan</td>\n",
       "    </tr>\n",
       "  </tbody>\n",
       "</table>\n",
       "</div>"
      ],
      "text/plain": [
       "   id keyword location                                               text\n",
       "0   0    none     none                 Just happened a terrible car crash\n",
       "1   2    none     none  Heard about #earthquake is different cities, s...\n",
       "2   3    none     none  there is a forest fire at spot pond, geese are...\n",
       "3   9    none     none           Apocalypse lighting. #Spokane #wildfires\n",
       "4  11    none     none      Typhoon Soudelor kills 28 in China and Taiwan"
      ]
     },
     "execution_count": 62,
     "metadata": {},
     "output_type": "execute_result"
    }
   ],
   "source": [
    "test_data.head()"
   ]
  },
  {
   "cell_type": "code",
   "execution_count": 63,
   "id": "854dde44",
   "metadata": {},
   "outputs": [
    {
     "data": {
      "text/plain": [
       "['Cameroon Repatriated 12000 Nigerian Refugees http://t.co/6nQRU2q5Tz',\n",
       " 'like for the music video I want some real action shit like burning buildings and police chases not some weak ben winston shit',\n",
       " \"I'm on 2 blood pressure meds and it's still probably through the roof! Long before the #PPact story broke I was involved in animal rescue\",\n",
       " 'This fire is WAY too close wtf is going on ???? http://t.co/drf3mmRbyx',\n",
       " 'New Giant Flames (GIANT FULL BLACK PANTOFEL) info/order sms:087809233445 pin:23928835 http://t.co/dthNEezupe  pic.twitter.com/pNPiZoDY',\n",
       " 'Zimbabwe is a country with a collapsed government ruled by a dictator while many live below the poverty line.',\n",
       " 'Look at the previous battles. Citizens were committing suicide so to not be under American control. The bomb was the only way. @NBCNews',\n",
       " '3 Options To Fix Your Facebook Cover Violation http://t.co/pF8dXwIbDp and Keep the #Facebook Police away. #socialmedia #strategy',\n",
       " 'Passengers evacuated &amp; lanes blocked off as power lines come down over a Gold Coast tram @9NewsGoldCoast http://t.co/zZweEezJuG',\n",
       " \"Waking up sick with a rainstorm outside would usually make me sad. Not today though. Put some The Kooks on the stereo and let's do this.\"]"
      ]
     },
     "execution_count": 63,
     "metadata": {},
     "output_type": "execute_result"
    }
   ],
   "source": [
    "import random\n",
    "\n",
    "random.choices(train_text, k =10)"
   ]
  },
  {
   "cell_type": "code",
   "execution_count": 64,
   "id": "c4a7b407",
   "metadata": {},
   "outputs": [
    {
     "data": {
      "text/plain": [
       "101.03743596479706"
      ]
     },
     "execution_count": 64,
     "metadata": {},
     "output_type": "execute_result"
    }
   ],
   "source": [
    "plt_list = []\n",
    "leng = 0\n",
    "for text in train_text:\n",
    "    plt_list.append(len(text))\n",
    "    leng =leng + len(text)\n",
    "\n",
    "leng/len(train_text)"
   ]
  },
  {
   "cell_type": "code",
   "execution_count": 65,
   "id": "7d9bf9f0",
   "metadata": {},
   "outputs": [
    {
     "data": {
      "image/png": "[encoded data removed]",
      "text/plain": [
       "<Figure size 640x480 with 1 Axes>"
      ]
     },
     "metadata": {},
     "output_type": "display_data"
    }
   ],
   "source": [
    "plt.hist(plt_list);"
   ]
  },
  {
   "cell_type": "code",
   "execution_count": 66,
   "id": "b822633b",
   "metadata": {},
   "outputs": [
    {
     "data": {
      "text/plain": [
       "['Pittsburgh ',\n",
       " 'none',\n",
       " 'Miami Beach, Fl',\n",
       " 'none',\n",
       " 'Charlotte NC',\n",
       " 'Bend, Oregon',\n",
       " 'Anderson, SC',\n",
       " 'Los Angeles, CA',\n",
       " 'United Kingdom',\n",
       " 'none']"
      ]
     },
     "execution_count": 66,
     "metadata": {},
     "output_type": "execute_result"
    }
   ],
   "source": [
    "random.choices(train_location , k = 10)"
   ]
  },
  {
   "cell_type": "code",
   "execution_count": 67,
   "id": "f7b32123",
   "metadata": {},
   "outputs": [
    {
     "data": {
      "text/plain": [
       "['attack',\n",
       " 'structural%20failure',\n",
       " 'whirlwind',\n",
       " 'heat%20wave',\n",
       " 'twister',\n",
       " 'airplane%20accident',\n",
       " 'devastation',\n",
       " 'typhoon',\n",
       " 'harm',\n",
       " 'disaster']"
      ]
     },
     "execution_count": 67,
     "metadata": {},
     "output_type": "execute_result"
    }
   ],
   "source": [
    "random.choices(train_keyword, k = 10)"
   ]
  },
  {
   "cell_type": "code",
   "execution_count": 68,
   "id": "a3e80071",
   "metadata": {},
   "outputs": [],
   "source": [
    "max_vocab = 10000\n",
    "output_length = 150\n",
    "\n",
    "text_vector = layers.TextVectorization(max_tokens = max_vocab , output_sequence_length=output_length )\n",
    "\n",
    "text_embed = layers.Embedding(max_vocab, 128, mask_zero=True)\n",
    "\n",
    "text_vector.adapt(train_text)"
   ]
  },
  {
   "cell_type": "code",
   "execution_count": 69,
   "id": "25a0af3e",
   "metadata": {},
   "outputs": [],
   "source": [
    "train_sentences, val_sentences , train_target , val_target = train_test_split(\n",
    "                                                                train_text,\n",
    "                                                                train_label,\n",
    "                                                                test_size = 0.3,\n",
    "                                                                random_state = 42)"
   ]
  },
  {
   "cell_type": "markdown",
   "id": "bddc51cd",
   "metadata": {},
   "source": [
    "## Creating a dataset for the module"
   ]
  },
  {
   "cell_type": "code",
   "execution_count": 70,
   "id": "559e3122",
   "metadata": {},
   "outputs": [],
   "source": [
    "train_dataset_0 = tf.data.Dataset.from_tensor_slices((train_sentences, train_target))\n",
    "val_dataset_0 = tf.data.Dataset.from_tensor_slices((val_sentences, val_target))\n",
    "\n",
    "\n",
    "train_dataset_0 = train_dataset_0.batch(32).prefetch(tf.data.AUTOTUNE)\n",
    "val_dataset_0 = val_dataset_0.batch(32).prefetch(tf.data.AUTOTUNE)\n"
   ]
  },
  {
   "cell_type": "code",
   "execution_count": 71,
   "id": "d682a534",
   "metadata": {},
   "outputs": [
    {
     "data": {
      "text/plain": [
       "<_PrefetchDataset element_spec=(TensorSpec(shape=(None,), dtype=tf.string, name=None), TensorSpec(shape=(None,), dtype=tf.int64, name=None))>"
      ]
     },
     "execution_count": 71,
     "metadata": {},
     "output_type": "execute_result"
    }
   ],
   "source": [
    "train_dataset_0"
   ]
  },
  {
   "cell_type": "code",
   "execution_count": 72,
   "id": "acbb07d9",
   "metadata": {},
   "outputs": [
    {
     "data": {
      "text/plain": [
       "(TensorSpec(shape=(None,), dtype=tf.string, name=None),\n",
       " TensorSpec(shape=(None,), dtype=tf.int64, name=None))"
      ]
     },
     "execution_count": 72,
     "metadata": {},
     "output_type": "execute_result"
    }
   ],
   "source": [
    "train_dataset_0.element_spec"
   ]
  },
  {
   "cell_type": "markdown",
   "id": "6741b9de",
   "metadata": {},
   "source": [
    "## Creating our first model using simple CNN method"
   ]
  },
  {
   "cell_type": "code",
   "execution_count": 19,
   "id": "e930ec6a",
   "metadata": {},
   "outputs": [
    {
     "name": "stdout",
     "output_type": "stream",
     "text": [
      "Model: \"model\"\n",
      "_________________________________________________________________\n",
      " Layer (type)                Output Shape              Param #   \n",
      "=================================================================\n",
      " input_1 (InputLayer)        [(None, 1)]               0         \n",
      "                                                                 \n",
      " text_vectorization (TextVec  (None, 150)              0         \n",
      " torization)                                                     \n",
      "                                                                 \n",
      " embedding (Embedding)       (None, 150, 128)          1280000   \n",
      "                                                                 \n",
      " conv1d (Conv1D)             (None, 149, 64)           16448     \n",
      "                                                                 \n",
      " global_average_pooling1d (G  (None, 64)               0         \n",
      " lobalAveragePooling1D)                                          \n",
      "                                                                 \n",
      " dense (Dense)               (None, 64)                4160      \n",
      "                                                                 \n",
      " dense_1 (Dense)             (None, 64)                4160      \n",
      "                                                                 \n",
      " dense_2 (Dense)             (None, 1)                 65        \n",
      "                                                                 \n",
      "=================================================================\n",
      "Total params: 1,304,833\n",
      "Trainable params: 1,304,833\n",
      "Non-trainable params: 0\n",
      "_________________________________________________________________\n"
     ]
    }
   ],
   "source": [
    "inputs = layers.Input(shape = (1,) , dtype = tf.string)\n",
    "\n",
    "x = text_vector(inputs)\n",
    "x = text_embed(x)\n",
    "\n",
    "x = layers.Conv1D(64, 2, activation = \"tanh\")(x)\n",
    "\n",
    "\n",
    "x = layers.GlobalAveragePooling1D()(x)\n",
    "x = layers.Dense(64 , activation = \"tanh\")(x)\n",
    "x = layers.Dense(64, activation = \"tanh\")(x)\n",
    "\n",
    "outputs = layers.Dense(1, activation = \"sigmoid\")(x)\n",
    "\n",
    "model_0 = tf.keras.Model(inputs , outputs)\n",
    "\n",
    "model_0.summary()"
   ]
  },
  {
   "cell_type": "code",
   "execution_count": 20,
   "id": "27850158",
   "metadata": {},
   "outputs": [
    {
     "name": "stdout",
     "output_type": "stream",
     "text": [
      "Epoch 1/10\n",
      "167/167 [==============================] - 10s 46ms/step - loss: 0.6832 - accuracy: 0.5772 - val_loss: 0.6540 - val_accuracy: 0.5775\n",
      "Epoch 2/10\n",
      "167/167 [==============================] - 7s 41ms/step - loss: 0.4892 - accuracy: 0.7652 - val_loss: 0.5041 - val_accuracy: 0.7859\n",
      "Epoch 3/10\n",
      "167/167 [==============================] - 7s 44ms/step - loss: 0.3497 - accuracy: 0.8473 - val_loss: 0.4907 - val_accuracy: 0.8117\n",
      "Epoch 4/10\n",
      "167/167 [==============================] - 7s 40ms/step - loss: 0.2762 - accuracy: 0.8891 - val_loss: 0.5288 - val_accuracy: 0.8122\n",
      "Epoch 5/10\n",
      "167/167 [==============================] - 7s 42ms/step - loss: 0.2342 - accuracy: 0.9097 - val_loss: 0.6094 - val_accuracy: 0.7964\n",
      "Epoch 6/10\n",
      "167/167 [==============================] - 8s 50ms/step - loss: 0.2282 - accuracy: 0.9097 - val_loss: 0.6778 - val_accuracy: 0.7863\n",
      "Epoch 7/10\n",
      "167/167 [==============================] - 8s 51ms/step - loss: 0.2177 - accuracy: 0.9077 - val_loss: 0.6055 - val_accuracy: 0.7872\n",
      "Epoch 8/10\n",
      "167/167 [==============================] - 8s 50ms/step - loss: 0.1619 - accuracy: 0.9362 - val_loss: 0.8626 - val_accuracy: 0.7032\n",
      "Epoch 9/10\n",
      "167/167 [==============================] - 8s 46ms/step - loss: 0.1316 - accuracy: 0.9503 - val_loss: 1.0816 - val_accuracy: 0.6524\n",
      "Epoch 10/10\n",
      "167/167 [==============================] - 8s 48ms/step - loss: 0.1188 - accuracy: 0.9578 - val_loss: 0.9496 - val_accuracy: 0.7001\n"
     ]
    }
   ],
   "source": [
    "model_0.compile(loss = \"binary_crossentropy\",\n",
    "               optimizer = \"adam\",\n",
    "               metrics = [\"accuracy\"])\n",
    "\n",
    "model_0_history = model_0.fit(train_dataset_0, \n",
    "           epochs = 10 ,\n",
    "           validation_data=val_dataset_0)"
   ]
  },
  {
   "cell_type": "code",
   "execution_count": 21,
   "id": "3386f893",
   "metadata": {},
   "outputs": [
    {
     "data": {
      "text/plain": [
       "1186    0\n",
       "4071    1\n",
       "5461    1\n",
       "5787    1\n",
       "7445    0\n",
       "       ..\n",
       "5226    0\n",
       "5390    0\n",
       "860     0\n",
       "7603    1\n",
       "7270    1\n",
       "Name: target, Length: 5329, dtype: int64"
      ]
     },
     "execution_count": 21,
     "metadata": {},
     "output_type": "execute_result"
    }
   ],
   "source": [
    "train_target"
   ]
  },
  {
   "cell_type": "markdown",
   "id": "184f67bc",
   "metadata": {},
   "source": [
    "## Visualizing the model's performance"
   ]
  },
  {
   "cell_type": "code",
   "execution_count": 22,
   "id": "d0d7c96f",
   "metadata": {},
   "outputs": [
    {
     "name": "stdout",
     "output_type": "stream",
     "text": [
      "72/72 [==============================] - 1s 11ms/step\n"
     ]
    },
    {
     "data": {
      "text/plain": [
       "{'accuracy': 70.00875656742556,\n",
       " 'precision': 0.7397661357946943,\n",
       " 'recall': 0.7000875656742557,\n",
       " 'f1': 0.7005834785893477}"
      ]
     },
     "execution_count": 22,
     "metadata": {},
     "output_type": "execute_result"
    }
   ],
   "source": [
    "model_0_preds = model_0.predict(val_dataset_0)\n",
    "model_0_results = calculate_results(tf.round(model_0_preds), val_target)\n",
    "model_0_results"
   ]
  },
  {
   "cell_type": "markdown",
   "id": "36c77ef5",
   "metadata": {},
   "source": [
    "## Creating a character level dataset"
   ]
  },
  {
   "cell_type": "code",
   "execution_count": 73,
   "id": "6fb14e98",
   "metadata": {},
   "outputs": [
    {
     "data": {
      "text/plain": [
       "['s o   y o u   h a v e   a   n e w   w e a p o n   t h a t   c a n   c a u s e   u n - i m a g i n a b l e   d e s t r u c t i o n .',\n",
       " 't h e   f $ & a m p ; @ i n g   t h i n g s   i   d o   f o r   # g i s h w h e s   j u s t   g o t   s o a k e d   i n   a   d e l u g e   g o i n g   f o r   p a d s   a n d   t a m p o n s .   t h x   @ m i s h a c o l l i n s   @ / @',\n",
       " 'd t   @ g e o r g e g a l l o w a y :   r t   @ g a l l o w a y 4 m a y o r :   \\x89 û ï t h e   c o l   p o l i c e   c a n   c a t c h   a   p i c k p o c k e t   i n   l i v e r p o o l   s t r e e . . .   h t t p : / / t . c o / v x i n 1 g o q 4 q',\n",
       " 'a f t e r s h o c k   b a c k   t o   s c h o o l   k i c k   o f f   w a s   g r e a t .   i   w a n t   t o   t h a n k   e v e r y o n e   f o r   m a k i n g   i t   p o s s i b l e .   w h a t   a   g r e a t   n i g h t .',\n",
       " 'i n   r e s p o n s e   t o   t r a u m a   c h i l d r e n   o f   a d d i c t s   d e v e l o p   a   d e f e n s i v e   s e l f   -   o n e   t h a t   d e c r e a s e s   v u l n e r a b i l i t y .   ( 3',\n",
       " '@ c a l u m 5 s o s   y o u   l o o k   l i k e   y o u   g o t   c a u g h t   i n   a   r a i n s t o r m   t h i s   i s   a m a z i n g   a n d   d i s g u s t i n g   a t   t h e   s a m e   t i m e',\n",
       " 'm y   f a v o r i t e   l a d y   c a m e   t o   o u r   v o l u n t e e r   m e e t i n g \\n h o p e f u l l y   j o i n i n g   h e r   y o u t h   c o l l i s i o n   a n d   i   a m   e x c i t e   h t t p : / / t . c o / i j 0 w q 4 9 0 c s',\n",
       " '@ b r i a n r o e m m e l e   u x   f a i l   o f   e m v   -   p e o p l e   w a n t   t o   i n s e r t   a n d   r e m o v e   q u i c k l y   l i k e   a   g a s   p u m p   s t r i p e   r e a d e r .   1   p e r s o n   t o l d   m e   i t   c r a s h e d   t h e   p o s',\n",
       " \"c a n ' t   f i n d   m y   a r i a n a   g r a n d e   s h i r t     t h i s   i s   a   f u c k i n g   t r a g e d y\",\n",
       " 't h e   m u r d e r o u s   s t o r y   o f   a m e r i c a \\x89 û ª s   f i r s t   h i j a c k i n g   h t t p : / / t . c o / e y u g k 6 b y x r']"
      ]
     },
     "execution_count": 73,
     "metadata": {},
     "output_type": "execute_result"
    }
   ],
   "source": [
    "train_char_text = [\" \".join(list(text.lower())) for text in train_sentences]\n",
    "val_char_text = [\" \".join(list(text.lower())) for text in val_sentences]\n",
    "test_char_text = [\" \".join(list(text.lower())) for text in test_text]\n",
    "\n",
    "\n",
    "val_char_text[:10]\n"
   ]
  },
  {
   "cell_type": "code",
   "execution_count": 74,
   "id": "f1a8379b",
   "metadata": {},
   "outputs": [
    {
     "data": {
      "text/plain": [
       "<_PrefetchDataset element_spec=(TensorSpec(shape=(None,), dtype=tf.string, name=None), TensorSpec(shape=(None,), dtype=tf.int64, name=None))>"
      ]
     },
     "execution_count": 74,
     "metadata": {},
     "output_type": "execute_result"
    }
   ],
   "source": [
    "train_dataset_1 = tf.data.Dataset.from_tensor_slices((train_char_text, train_target)).batch(32).prefetch(tf.data.AUTOTUNE)\n",
    "val_dataset_1 = tf.data.Dataset.from_tensor_slices((val_char_text, val_target)).batch(32).prefetch(tf.data.AUTOTUNE)\n",
    "\n",
    "val_dataset_1"
   ]
  },
  {
   "cell_type": "code",
   "execution_count": 75,
   "id": "429d0ddd",
   "metadata": {},
   "outputs": [
    {
     "data": {
      "text/plain": [
       "(array([ 449., 1255., 2072., 2488., 2818.,  643.,  747.,  710., 1658.,\n",
       "         102.]),\n",
       " array([  7. ,  37.6,  68.2,  98.8, 129.4, 160. , 190.6, 221.2, 251.8,\n",
       "        282.4, 313. ]),\n",
       " <BarContainer object of 10 artists>)"
      ]
     },
     "execution_count": 75,
     "metadata": {},
     "output_type": "execute_result"
    },
    {
     "data": {
      "image/png": "[encoded data removed]",
      "text/plain": [
       "<Figure size 640x480 with 1 Axes>"
      ]
     },
     "metadata": {},
     "output_type": "display_data"
    }
   ],
   "source": [
    "for text in train_char_text:\n",
    "    plt_list.append(len(text))\n",
    "\n",
    "plt.hist(plt_list)"
   ]
  },
  {
   "cell_type": "code",
   "execution_count": 76,
   "id": "cd930809",
   "metadata": {},
   "outputs": [],
   "source": [
    "char_length = 68\n",
    "\n",
    "char_vector = layers.TextVectorization(max_tokens = char_length+2 , output_sequence_length=280 )\n",
    "\n",
    "char_embed = layers.Embedding(char_length+2 , 128, mask_zero= True)\n",
    "\n",
    "char_vector.adapt(train_char_text)"
   ]
  },
  {
   "cell_type": "markdown",
   "id": "eaa58eaf",
   "metadata": {},
   "source": [
    "## Creating a convulation model using character token"
   ]
  },
  {
   "cell_type": "code",
   "execution_count": 36,
   "id": "9e0a08eb",
   "metadata": {},
   "outputs": [
    {
     "name": "stdout",
     "output_type": "stream",
     "text": [
      "Model: \"model_2\"\n",
      "_________________________________________________________________\n",
      " Layer (type)                Output Shape              Param #   \n",
      "=================================================================\n",
      " input_10 (InputLayer)       [(None, 1)]               0         \n",
      "                                                                 \n",
      " text_vectorization_1 (TextV  (None, 280)              0         \n",
      " ectorization)                                                   \n",
      "                                                                 \n",
      " embedding_1 (Embedding)     (None, 280, 128)          8960      \n",
      "                                                                 \n",
      " dense_45 (Dense)            (None, 280, 100)          12900     \n",
      "                                                                 \n",
      " conv1d_35 (Conv1D)          (None, 138, 264)          132264    \n",
      "                                                                 \n",
      " global_max_pooling1d_8 (Glo  (None, 264)              0         \n",
      " balMaxPooling1D)                                                \n",
      "                                                                 \n",
      " dense_46 (Dense)            (None, 100)               26500     \n",
      "                                                                 \n",
      " dense_47 (Dense)            (None, 1)                 101       \n",
      "                                                                 \n",
      "=================================================================\n",
      "Total params: 180,725\n",
      "Trainable params: 180,725\n",
      "Non-trainable params: 0\n",
      "_________________________________________________________________\n"
     ]
    }
   ],
   "source": [
    "inputs = layers.Input(shape = (1,), dtype = tf.string)\n",
    "x = char_vector(inputs)\n",
    "x = char_embed(x)\n",
    "\n",
    "\n",
    "x = layers.Dense(100,activation = \"tanh\")(x)\n",
    "x = layers.Conv1D(264, 5, 2, activation = \"tanh\")(x)\n",
    "\n",
    "x = layers.GlobalMaxPool1D()(x)\n",
    "\n",
    "\n",
    "\n",
    "x = layers.Dense(100,activation = \"tanh\")(x)\n",
    "outputs = layers.Dense(1 , activation = \"sigmoid\")(x)\n",
    "\n",
    "model_1 = tf.keras.Model(inputs, outputs)\n",
    "\n",
    "model_1.summary()"
   ]
  },
  {
   "cell_type": "code",
   "execution_count": 37,
   "id": "0514e010",
   "metadata": {},
   "outputs": [
    {
     "name": "stdout",
     "output_type": "stream",
     "text": [
      "Epoch 1/10\n",
      "167/167 [==============================] - 29s 166ms/step - loss: 0.6515 - accuracy: 0.6208 - val_loss: 0.5933 - val_accuracy: 0.6922\n",
      "Epoch 2/10\n",
      "167/167 [==============================] - 25s 153ms/step - loss: 0.5450 - accuracy: 0.7251 - val_loss: 0.5333 - val_accuracy: 0.7347\n",
      "Epoch 3/10\n",
      "167/167 [==============================] - 27s 161ms/step - loss: 0.4525 - accuracy: 0.7895 - val_loss: 0.5413 - val_accuracy: 0.7268\n",
      "Epoch 4/10\n",
      "167/167 [==============================] - 28s 169ms/step - loss: 0.3630 - accuracy: 0.8442 - val_loss: 0.6314 - val_accuracy: 0.6909\n",
      "Epoch 5/10\n",
      "167/167 [==============================] - 30s 183ms/step - loss: 0.2652 - accuracy: 0.8996 - val_loss: 0.7356 - val_accuracy: 0.6764\n",
      "Epoch 6/10\n",
      "167/167 [==============================] - 27s 163ms/step - loss: 0.2241 - accuracy: 0.9114 - val_loss: 1.1285 - val_accuracy: 0.6878\n",
      "Epoch 7/10\n",
      "167/167 [==============================] - 31s 183ms/step - loss: 0.3069 - accuracy: 0.8609 - val_loss: 0.8497 - val_accuracy: 0.7202\n",
      "Epoch 8/10\n",
      "167/167 [==============================] - 27s 163ms/step - loss: 0.3073 - accuracy: 0.8625 - val_loss: 0.7593 - val_accuracy: 0.7250\n",
      "Epoch 9/10\n",
      "167/167 [==============================] - 27s 160ms/step - loss: 0.2465 - accuracy: 0.8934 - val_loss: 0.7333 - val_accuracy: 0.6874\n",
      "Epoch 10/10\n",
      "167/167 [==============================] - 27s 161ms/step - loss: 0.2042 - accuracy: 0.9195 - val_loss: 1.4930 - val_accuracy: 0.5381\n"
     ]
    }
   ],
   "source": [
    "model_1.compile(loss = \"binary_crossentropy\",\n",
    "               optimizer = \"adam\",\n",
    "               metrics = [\"accuracy\"])\n",
    "\n",
    "model_1_history = model_1.fit(train_dataset_1, epochs = 10 , validation_data=val_dataset_1)"
   ]
  },
  {
   "cell_type": "markdown",
   "id": "4641f9ae",
   "metadata": {},
   "source": [
    "## Visualizing the model's performance"
   ]
  },
  {
   "cell_type": "code",
   "execution_count": 40,
   "id": "469b78e8",
   "metadata": {},
   "outputs": [
    {
     "name": "stdout",
     "output_type": "stream",
     "text": [
      "72/72 [==============================] - 4s 50ms/step\n"
     ]
    },
    {
     "data": {
      "text/plain": [
       "{'accuracy': 49.69352014010508,\n",
       " 'precision': 0.9092435055272563,\n",
       " 'recall': 0.4969352014010508,\n",
       " 'f1': 0.5897513063428701}"
      ]
     },
     "execution_count": 40,
     "metadata": {},
     "output_type": "execute_result"
    }
   ],
   "source": [
    "model_1_preds = model_1.predict(val_char_text)\n",
    "model_1_preds = tf.round(model_1_preds)\n",
    "\n",
    "model_1_results = calculate_resultsulate_resultsulate_resultsulate_results(model_1_preds, val_target)\n",
    "\n",
    "model_1_results"
   ]
  },
  {
   "cell_type": "markdown",
   "id": "e30c76a3",
   "metadata": {},
   "source": [
    "## Creating a Recurrent Neural Network using Character token"
   ]
  },
  {
   "cell_type": "code",
   "execution_count": 48,
   "id": "ddb1a8c1",
   "metadata": {},
   "outputs": [
    {
     "name": "stdout",
     "output_type": "stream",
     "text": [
      "Model: \"model_4\"\n",
      "_________________________________________________________________\n",
      " Layer (type)                Output Shape              Param #   \n",
      "=================================================================\n",
      " input_15 (InputLayer)       [(None, 1)]               0         \n",
      "                                                                 \n",
      " text_vectorization_1 (TextV  (None, 280)              0         \n",
      " ectorization)                                                   \n",
      "                                                                 \n",
      " embedding_1 (Embedding)     (None, 280, 128)          8960      \n",
      "                                                                 \n",
      " dense_56 (Dense)            (None, 280, 100)          12900     \n",
      "                                                                 \n",
      " dense_57 (Dense)            (None, 280, 500)          50500     \n",
      "                                                                 \n",
      " bidirectional_5 (Bidirectio  (None, 528)              1615680   \n",
      " nal)                                                            \n",
      "                                                                 \n",
      " dense_58 (Dense)            (None, 100)               52900     \n",
      "                                                                 \n",
      " dense_59 (Dense)            (None, 1)                 101       \n",
      "                                                                 \n",
      "=================================================================\n",
      "Total params: 1,741,041\n",
      "Trainable params: 1,741,041\n",
      "Non-trainable params: 0\n",
      "_________________________________________________________________\n"
     ]
    }
   ],
   "source": [
    "inputs = layers.Input(shape = (1, ) , dtype = tf.string)\n",
    "x = char_vector(inputs)\n",
    "x = char_embed(x)\n",
    "\n",
    "x = layers.Dense(100, activation = \"tanh\")(x)\n",
    "x = layers.Dense(500, activation = \"tanh\")(x)\n",
    "\n",
    "x = layers.Bidirectional(layers.LSTM(264))(x)\n",
    "\n",
    "\n",
    "\n",
    "x = layers.Dense(100, activation = \"tanh\")(x)\n",
    "\n",
    "outputs = layers.Dense(1, activation = \"sigmoid\")(x)\n",
    "\n",
    "model_2 = tf.keras.Model(inputs, outputs)\n",
    "\n",
    "model_2.summary()"
   ]
  },
  {
   "cell_type": "code",
   "execution_count": 49,
   "id": "4078cf91",
   "metadata": {},
   "outputs": [
    {
     "name": "stdout",
     "output_type": "stream",
     "text": [
      "Epoch 1/10\n",
      "167/167 [==============================] - 9819s 59s/step - loss: 0.6516 - accuracy: 0.6239 - val_loss: 0.6497 - val_accuracy: 0.6156\n",
      "Epoch 2/10\n",
      "167/167 [==============================] - 1438s 9s/step - loss: 0.6462 - accuracy: 0.6322 - val_loss: 0.6333 - val_accuracy: 0.6401\n",
      "Epoch 3/10\n",
      "167/167 [==============================] - 1683s 10s/step - loss: 0.6351 - accuracy: 0.6500 - val_loss: 0.6596 - val_accuracy: 0.6116\n",
      "Epoch 4/10\n",
      "167/167 [==============================] - 2028s 12s/step - loss: 0.6392 - accuracy: 0.6356 - val_loss: 0.6328 - val_accuracy: 0.6410\n",
      "Epoch 5/10\n",
      "167/167 [==============================] - 5762s 35s/step - loss: 0.6405 - accuracy: 0.6315 - val_loss: 0.6348 - val_accuracy: 0.6445\n",
      "Epoch 6/10\n",
      "167/167 [==============================] - 1722s 10s/step - loss: 0.6238 - accuracy: 0.6583 - val_loss: 0.6303 - val_accuracy: 0.6462\n",
      "Epoch 7/10\n",
      "167/167 [==============================] - 3172s 19s/step - loss: 0.6244 - accuracy: 0.6551 - val_loss: 0.6317 - val_accuracy: 0.6506\n",
      "Epoch 8/10\n",
      "167/167 [==============================] - 1811s 11s/step - loss: 0.5984 - accuracy: 0.6831 - val_loss: 0.6100 - val_accuracy: 0.6673\n",
      "Epoch 9/10\n",
      "167/167 [==============================] - 2810s 17s/step - loss: 0.5672 - accuracy: 0.7099 - val_loss: 0.6065 - val_accuracy: 0.6756\n",
      "Epoch 10/10\n",
      "167/167 [==============================] - 3442s 21s/step - loss: 0.5311 - accuracy: 0.7394 - val_loss: 0.6033 - val_accuracy: 0.6852\n"
     ]
    }
   ],
   "source": [
    "model_2.compile(loss = \"binary_crossentropy\",\n",
    "               optimizer = \"adam\",\n",
    "               metrics = [\"accuracy\"])\n",
    "\n",
    "model_2_history = model_2.fit(train_dataset_1, epochs = 10 , validation_data=val_dataset_1)"
   ]
  },
  {
   "cell_type": "markdown",
   "id": "fe64bdf3",
   "metadata": {},
   "source": [
    "## visualizing our model's performance"
   ]
  },
  {
   "cell_type": "code",
   "execution_count": 52,
   "id": "02c554b1",
   "metadata": {},
   "outputs": [
    {
     "name": "stdout",
     "output_type": "stream",
     "text": [
      "72/72 [==============================] - 256s 3s/step\n"
     ]
    },
    {
     "data": {
      "text/plain": [
       "{'accuracy': 65.19264448336253,\n",
       " 'precision': 0.6991837510613002,\n",
       " 'recall': 0.6519264448336253,\n",
       " 'f1': 0.6654859452107369}"
      ]
     },
     "execution_count": 52,
     "metadata": {},
     "output_type": "execute_result"
    }
   ],
   "source": [
    "model_2_preds =  model_2.predict(val_char_text)\n",
    "model_2_preds = tf.round(model_2_preds)\n",
    "\n",
    "model_2_results = calculate_results(model_2_preds, val_target)\n",
    "\n",
    "model_2_results"
   ]
  },
  {
   "cell_type": "markdown",
   "id": "5f87f5ce",
   "metadata": {},
   "source": [
    "## Creating a Recurrent Neural Network model using text token"
   ]
  },
  {
   "cell_type": "code",
   "execution_count": 55,
   "id": "59adcd98",
   "metadata": {},
   "outputs": [
    {
     "name": "stdout",
     "output_type": "stream",
     "text": [
      "Model: \"model_6\"\n",
      "_________________________________________________________________\n",
      " Layer (type)                Output Shape              Param #   \n",
      "=================================================================\n",
      " input_17 (InputLayer)       [(None, 1)]               0         \n",
      "                                                                 \n",
      " text_vectorization_1 (TextV  (None, 280)              0         \n",
      " ectorization)                                                   \n",
      "                                                                 \n",
      " embedding_1 (Embedding)     (None, 280, 128)          8960      \n",
      "                                                                 \n",
      " dense_64 (Dense)            (None, 280, 100)          12900     \n",
      "                                                                 \n",
      " dense_65 (Dense)            (None, 280, 500)          50500     \n",
      "                                                                 \n",
      " bidirectional_7 (Bidirectio  (None, 256)              644096    \n",
      " nal)                                                            \n",
      "                                                                 \n",
      " dense_66 (Dense)            (None, 100)               25700     \n",
      "                                                                 \n",
      " dense_67 (Dense)            (None, 1)                 101       \n",
      "                                                                 \n",
      "=================================================================\n",
      "Total params: 742,257\n",
      "Trainable params: 742,257\n",
      "Non-trainable params: 0\n",
      "_________________________________________________________________\n"
     ]
    }
   ],
   "source": [
    "inputs = layers.Input(shape = (1, ) , dtype = tf.string)\n",
    "x = char_vector(inputs)\n",
    "x = char_embed(x)\n",
    "\n",
    "x = layers.Dense(100, activation = \"relu\")(x)\n",
    "x = layers.Dense(500, activation = \"relu\")(x)\n",
    "\n",
    "x = layers.Bidirectional(layers.LSTM(128))(x)\n",
    "\n",
    "\n",
    "\n",
    "x = layers.Dense(100, activation = \"relu\")(x)\n",
    "\n",
    "outputs = layers.Dense(1, activation = \"sigmoid\")(x)\n",
    "\n",
    "model_3 = tf.keras.Model(inputs, outputs)\n",
    "\n",
    "model_3.summary()"
   ]
  },
  {
   "cell_type": "code",
   "execution_count": 56,
   "id": "4df50f3c",
   "metadata": {},
   "outputs": [
    {
     "name": "stdout",
     "output_type": "stream",
     "text": [
      "Epoch 1/5\n",
      "167/167 [==============================] - 392s 2s/step - loss: 0.6725 - accuracy: 0.5652 - val_loss: 0.6620 - val_accuracy: 0.5784\n",
      "Epoch 2/5\n",
      "167/167 [==============================] - 493s 3s/step - loss: 0.6642 - accuracy: 0.5676 - val_loss: 0.6659 - val_accuracy: 0.5705\n",
      "Epoch 3/5\n",
      "167/167 [==============================] - 481s 3s/step - loss: 0.6635 - accuracy: 0.5705 - val_loss: 0.6634 - val_accuracy: 0.5775\n",
      "Epoch 4/5\n",
      "167/167 [==============================] - 673s 4s/step - loss: 0.6604 - accuracy: 0.5744 - val_loss: 0.6635 - val_accuracy: 0.5863\n",
      "Epoch 5/5\n",
      "167/167 [==============================] - 466s 3s/step - loss: 0.6578 - accuracy: 0.5770 - val_loss: 0.6609 - val_accuracy: 0.5744\n"
     ]
    }
   ],
   "source": [
    "model_3.compile(loss = \"binary_crossentropy\",\n",
    "               optimizer = \"adam\",\n",
    "               metrics = [\"accuracy\"])\n",
    "\n",
    "model_3_history = model_3.fit(train_dataset_0, epochs = 5 , validation_data=val_dataset_0)"
   ]
  },
  {
   "cell_type": "markdown",
   "id": "ce5fcb6d",
   "metadata": {},
   "source": [
    "## Visualizing our model's performance"
   ]
  },
  {
   "cell_type": "code",
   "execution_count": 57,
   "id": "dd39b0e9",
   "metadata": {},
   "outputs": [
    {
     "name": "stdout",
     "output_type": "stream",
     "text": [
      "72/72 [==============================] - 59s 764ms/step\n"
     ]
    },
    {
     "data": {
      "text/plain": [
       "{'accuracy': 57.4430823117338,\n",
       " 'precision': 0.5977839667274372,\n",
       " 'recall': 0.574430823117338,\n",
       " 'f1': 0.5738385051830046}"
      ]
     },
     "execution_count": 57,
     "metadata": {},
     "output_type": "execute_result"
    }
   ],
   "source": [
    "model_3_preds =  model_3.predict(val_dataset_0)\n",
    "model_3_preds = tf.round(model_3_preds)\n",
    "\n",
    "model_3_results = calculate_results(model_3_preds, val_target)\n",
    "\n",
    "model_3_results"
   ]
  },
  {
   "cell_type": "markdown",
   "id": "b29e98e6",
   "metadata": {},
   "source": [
    "## Creating concatenate model (char text model + location model + keyboard model)"
   ]
  },
  {
   "cell_type": "code",
   "execution_count": 78,
   "id": "50e57f04",
   "metadata": {},
   "outputs": [],
   "source": [
    "train_data = train_data.sample(frac = 1)"
   ]
  },
  {
   "cell_type": "code",
   "execution_count": 79,
   "id": "99775e34",
   "metadata": {},
   "outputs": [
    {
     "name": "stdout",
     "output_type": "stream",
     "text": [
      "<class 'pandas.core.frame.DataFrame'>\n",
      "Int64Index: 7613 entries, 4042 to 5722\n",
      "Data columns (total 5 columns):\n",
      " #   Column    Non-Null Count  Dtype \n",
      "---  ------    --------------  ----- \n",
      " 0   id        7613 non-null   int64 \n",
      " 1   keyword   7613 non-null   object\n",
      " 2   location  7613 non-null   object\n",
      " 3   text      7613 non-null   object\n",
      " 4   target    7613 non-null   int64 \n",
      "dtypes: int64(2), object(3)\n",
      "memory usage: 356.9+ KB\n"
     ]
    }
   ],
   "source": [
    "train_data.info()"
   ]
  },
  {
   "cell_type": "code",
   "execution_count": 80,
   "id": "6ef711d4",
   "metadata": {},
   "outputs": [],
   "source": [
    "train_sent = train_data[\"text\"][:6500]\n",
    "train_keyword = train_data[\"keyword\"][:6500]\n",
    "train_location = train_data[\"location\"][:6500]\n",
    "train_target = train_data[\"target\"][:6500]\n",
    "\n",
    "val_sent = train_data[\"text\"][6500:]\n",
    "val_keyword = train_data[\"keyword\"][6500:]\n",
    "val_location = train_data[\"location\"][6500:]\n",
    "val_target = train_data[\"target\"][6500:]"
   ]
  },
  {
   "cell_type": "code",
   "execution_count": 81,
   "id": "2d913be7",
   "metadata": {},
   "outputs": [],
   "source": [
    "train_sent_text = [\" \".join(list(text.lower())) for text in train_sent]\n",
    "val_sent_text = [\" \".join(list(text.lower())) for text in val_sent]\n",
    "test_char_text = [\" \".join(list(text.lower())) for text in test_text]\n"
   ]
  },
  {
   "cell_type": "code",
   "execution_count": 82,
   "id": "4e63436f",
   "metadata": {},
   "outputs": [],
   "source": [
    "char_length = 68\n",
    "\n",
    "char_vector = layers.TextVectorization(max_tokens = char_length+2 , output_sequence_length=280 )\n",
    "\n",
    "char_embed = layers.Embedding(char_length+2 , 128, mask_zero= True)\n",
    "\n",
    "char_vector.adapt(train_sent_text)"
   ]
  },
  {
   "cell_type": "markdown",
   "id": "5ca09268",
   "metadata": {},
   "source": [
    "## Creating a dataset for our final model "
   ]
  },
  {
   "cell_type": "code",
   "execution_count": 84,
   "id": "afc414aa",
   "metadata": {},
   "outputs": [],
   "source": [
    "def transforms(c_data, keyword, location, target):\n",
    "    x = tf.data.Dataset.from_tensor_slices((c_data ,keyword,location))\n",
    "    y = tf.data.Dataset.from_tensor_slices(target)\n",
    "    z = tf.data.Dataset.zip((x,y)).batch(32).prefetch(tf.data.AUTOTUNE)\n",
    "    return z"
   ]
  },
  {
   "cell_type": "code",
   "execution_count": 85,
   "id": "c3309940",
   "metadata": {},
   "outputs": [],
   "source": [
    "positional_train_dataset = transforms(train_sent_text,\n",
    "                                      train_keyword, \n",
    "                                      train_location,\n",
    "                                      train_target)\n",
    "\n",
    "positional_val_dataset = transforms(val_sent_text,\n",
    "                                    val_keyword,\n",
    "                                    val_location,\n",
    "                                    val_target)\n",
    "\n"
   ]
  },
  {
   "cell_type": "code",
   "execution_count": 86,
   "id": "57719033",
   "metadata": {},
   "outputs": [
    {
     "data": {
      "text/plain": [
       "<_PrefetchDataset element_spec=((TensorSpec(shape=(None,), dtype=tf.string, name=None), TensorSpec(shape=(None,), dtype=tf.string, name=None), TensorSpec(shape=(None,), dtype=tf.string, name=None)), TensorSpec(shape=(None,), dtype=tf.int64, name=None))>"
      ]
     },
     "execution_count": 86,
     "metadata": {},
     "output_type": "execute_result"
    }
   ],
   "source": [
    "positional_train_dataset"
   ]
  },
  {
   "cell_type": "markdown",
   "id": "afcd91ec",
   "metadata": {},
   "source": [
    "### Creating model 5"
   ]
  },
  {
   "cell_type": "code",
   "execution_count": 87,
   "id": "11268175",
   "metadata": {},
   "outputs": [
    {
     "name": "stdout",
     "output_type": "stream",
     "text": [
      "Model: \"final_model\"\n",
      "__________________________________________________________________________________________________\n",
      " Layer (type)                   Output Shape         Param #     Connected to                     \n",
      "==================================================================================================\n",
      " input_1 (InputLayer)           [(None, 1)]          0           []                               \n",
      "                                                                                                  \n",
      " input_2 (InputLayer)           [(None, 1)]          0           []                               \n",
      "                                                                                                  \n",
      " input_3 (InputLayer)           [(None, 1)]          0           []                               \n",
      "                                                                                                  \n",
      " text_vectorization_5 (TextVect  (None, 280)         0           ['input_1[0][0]',                \n",
      " orization)                                                       'input_2[0][0]',                \n",
      "                                                                  'input_3[0][0]']                \n",
      "                                                                                                  \n",
      " embedding_5 (Embedding)        (None, 280, 128)     8960        ['text_vectorization_5[0][0]',   \n",
      "                                                                  'text_vectorization_5[1][0]',   \n",
      "                                                                  'text_vectorization_5[2][0]']   \n",
      "                                                                                                  \n",
      " dense (Dense)                  (None, 280, 100)     12900       ['embedding_5[0][0]']            \n",
      "                                                                                                  \n",
      " dense_3 (Dense)                (None, 280, 100)     12900       ['embedding_5[1][0]']            \n",
      "                                                                                                  \n",
      " dense_6 (Dense)                (None, 280, 100)     12900       ['embedding_5[2][0]']            \n",
      "                                                                                                  \n",
      " dense_1 (Dense)                (None, 280, 500)     50500       ['dense[0][0]']                  \n",
      "                                                                                                  \n",
      " dense_4 (Dense)                (None, 280, 500)     50500       ['dense_3[0][0]']                \n",
      "                                                                                                  \n",
      " dense_7 (Dense)                (None, 280, 500)     50500       ['dense_6[0][0]']                \n",
      "                                                                                                  \n",
      " bidirectional (Bidirectional)  (None, 256)          644096      ['dense_1[0][0]']                \n",
      "                                                                                                  \n",
      " bidirectional_1 (Bidirectional  (None, 256)         644096      ['dense_4[0][0]']                \n",
      " )                                                                                                \n",
      "                                                                                                  \n",
      " bidirectional_2 (Bidirectional  (None, 256)         644096      ['dense_7[0][0]']                \n",
      " )                                                                                                \n",
      "                                                                                                  \n",
      " dense_2 (Dense)                (None, 1)            257         ['bidirectional[0][0]']          \n",
      "                                                                                                  \n",
      " dense_5 (Dense)                (None, 1)            257         ['bidirectional_1[0][0]']        \n",
      "                                                                                                  \n",
      " dense_8 (Dense)                (None, 1)            257         ['bidirectional_2[0][0]']        \n",
      "                                                                                                  \n",
      " concatenate (Concatenate)      (None, 3)            0           ['dense_2[0][0]',                \n",
      "                                                                  'dense_5[0][0]',                \n",
      "                                                                  'dense_8[0][0]']                \n",
      "                                                                                                  \n",
      " dense_9 (Dense)                (None, 1)            4           ['concatenate[0][0]']            \n",
      "                                                                                                  \n",
      "==================================================================================================\n",
      "Total params: 2,132,223\n",
      "Trainable params: 2,132,223\n",
      "Non-trainable params: 0\n",
      "__________________________________________________________________________________________________\n"
     ]
    }
   ],
   "source": [
    "# char text model\n",
    "\n",
    "inputs = layers.Input(shape = (1, ) , dtype = tf.string)\n",
    "char_vectorizer = char_vector(inputs)\n",
    "char_embedding = char_embed(char_vectorizer)\n",
    "\n",
    "x = layers.Dense(100, activation = \"relu\")(char_embedding)\n",
    "x = layers.Dense(500, activation = \"relu\")(x)\n",
    "\n",
    "x = layers.Bidirectional(layers.LSTM(128))(x)\n",
    "\n",
    "\n",
    "\n",
    "\n",
    "outputs = layers.Dense(1, activation = \"sigmoid\")(x)\n",
    "\n",
    "char_model = tf.keras.Model(inputs, outputs , name = \"character_model\")\n",
    "\n",
    "# keyword model\n",
    "\n",
    "inputs = layers.Input(shape = (1, ) , dtype = tf.string)\n",
    "char_vectorizer = char_vector(inputs)\n",
    "char_embedding = char_embed(char_vectorizer)\n",
    "\n",
    "x = layers.Dense(100, activation = \"relu\")(char_embedding)\n",
    "x = layers.Dense(500, activation = \"relu\")(x)\n",
    "\n",
    "x = layers.Bidirectional(layers.LSTM(128))(x)\n",
    "\n",
    "\n",
    "\n",
    "\n",
    "outputs = layers.Dense(1, activation = \"sigmoid\")(x)\n",
    "\n",
    "keyword_model = tf.keras.Model(inputs, outputs , name = \"keyword_model\")\n",
    "\n",
    "# location model \n",
    "\n",
    "inputs = layers.Input(shape = (1, ) , dtype = tf.string)\n",
    "char_vectorizer = char_vector(inputs)\n",
    "char_embedding = char_embed(char_vectorizer)\n",
    "\n",
    "x = layers.Dense(100, activation = \"relu\")(char_embedding)\n",
    "x = layers.Dense(500, activation = \"relu\")(x)\n",
    "\n",
    "x = layers.Bidirectional(layers.LSTM(128))(x)\n",
    "\n",
    "\n",
    "\n",
    "\n",
    "outputs = layers.Dense(1, activation = \"sigmoid\")(x)\n",
    "\n",
    "location_model = tf.keras.Model(inputs, outputs , name = \"location_model\")\n",
    "\n",
    "# concatenation of all the model\n",
    "\n",
    "char_concat = layers.Concatenate()([ char_model.output, keyword_model.output, location_model.output])\n",
    "\n",
    "# using some dropout\n",
    "\n",
    "dropout_layers = layers.Dropout(0.5)(char_concat)\n",
    "\n",
    "\n",
    "\n",
    "# final output layers\n",
    "\n",
    "output_layer = layers.Dense(1 , activation = \"sigmoid\")(char_concat)\n",
    "\n",
    "# final model \n",
    "\n",
    "model_5 = tf.keras.Model( [char_model.input, keyword_model.input,location_model.input], output_layer , name = \"final_model\")\n",
    "\n",
    "model_5.summary()"
   ]
  },
  {
   "cell_type": "code",
   "execution_count": null,
   "id": "051c69dd",
   "metadata": {},
   "outputs": [
    {
     "name": "stdout",
     "output_type": "stream",
     "text": [
      "Epoch 1/10\n",
      "204/204 [==============================] - 1257s 6s/step - loss: 0.6825 - accuracy: 0.5728 - val_loss: 0.6842 - val_accuracy: 0.5624\n",
      "Epoch 2/10\n",
      "204/204 [==============================] - 38565s 190s/step - loss: 0.6740 - accuracy: 0.5868 - val_loss: 0.6636 - val_accuracy: 0.5975\n",
      "Epoch 3/10\n",
      "204/204 [==============================] - 1161s 6s/step - loss: 0.6562 - accuracy: 0.6266 - val_loss: 0.6530 - val_accuracy: 0.6415\n",
      "Epoch 4/10\n",
      "204/204 [==============================] - 1198s 6s/step - loss: 0.6501 - accuracy: 0.6400 - val_loss: 0.6459 - val_accuracy: 0.6460\n",
      "Epoch 5/10\n",
      "204/204 [==============================] - ETA: 0s - loss: 0.6400 - accuracy: 0.6586Epoch 6/10\n",
      "198/204 [============================>.] - ETA: 1:26 - loss: 0.6303 - accuracy: 0.6776"
     ]
    }
   ],
   "source": [
    "model_5.compile(loss = \"binary_crossentropy\",\n",
    "               optimizer = \"adam\",\n",
    "               metrics = [\"accuracy\"])\n",
    "\n",
    "model_5_history = model_5.fit(positional_train_dataset, epochs = 10 , validation_data=positional_val_dataset)"
   ]
  },
  {
   "cell_type": "code",
   "execution_count": null,
   "id": "20238585",
   "metadata": {},
   "outputs": [],
   "source": [
    "\n",
    "\n",
    "\n",
    "\n",
    "\n"
   ]
  }
 ],
 "metadata": {
  "kernelspec": {
   "display_name": "Python 3 (ipykernel)",
   "language": "python",
   "name": "python3"
  },
  "language_info": {
   "codemirror_mode": {
    "name": "ipython",
    "version": 3
   },
   "file_extension": ".py",
   "mimetype": "text/x-python",
   "name": "python",
   "nbconvert_exporter": "python",
   "pygments_lexer": "ipython3",
   "version": "3.11.2"
  }
 },
 "nbformat": 4,
 "nbformat_minor": 5
}
