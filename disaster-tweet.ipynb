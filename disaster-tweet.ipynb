{
 "cells": [
  {
   "cell_type": "code",
   "execution_count": 62,
   "id": "7cfea9a4",
   "metadata": {},
   "outputs": [],
   "source": [
    "import tensorflow as tf\n",
    "import pandas as pd\n",
    "import tensorflow.keras as keras\n",
    "import tensorflow.keras.layers as layers\n",
    "import matplotlib.pyplot as plt\n",
    "from sklearn.model_selection import train_test_split\n",
    "import numpy as np"
   ]
  },
  {
   "cell_type": "code",
   "execution_count": 12,
   "id": "3a68ad65",
   "metadata": {},
   "outputs": [],
   "source": [
    "data_dir =\"C:\\\\Users\\\\USER\\\\Documents\\\\ML\\\\NLP\\\\disaster\\\\src\\\\disaster-tweet\\\\\"\n",
    "train_data_dir = data_dir + \"train.csv\"\n",
    "test_data_dir = data_dir + \"test.csv\""
   ]
  },
  {
   "cell_type": "code",
   "execution_count": 13,
   "id": "115d5621",
   "metadata": {},
   "outputs": [
    {
     "data": {
      "text/html": [
       "<div>\n",
       "<style scoped>\n",
       "    .dataframe tbody tr th:only-of-type {\n",
       "        vertical-align: middle;\n",
       "    }\n",
       "\n",
       "    .dataframe tbody tr th {\n",
       "        vertical-align: top;\n",
       "    }\n",
       "\n",
       "    .dataframe thead th {\n",
       "        text-align: right;\n",
       "    }\n",
       "</style>\n",
       "<table border=\"1\" class=\"dataframe\">\n",
       "  <thead>\n",
       "    <tr style=\"text-align: right;\">\n",
       "      <th></th>\n",
       "      <th>id</th>\n",
       "      <th>keyword</th>\n",
       "      <th>location</th>\n",
       "      <th>text</th>\n",
       "      <th>target</th>\n",
       "    </tr>\n",
       "  </thead>\n",
       "  <tbody>\n",
       "    <tr>\n",
       "      <th>0</th>\n",
       "      <td>1</td>\n",
       "      <td>NaN</td>\n",
       "      <td>NaN</td>\n",
       "      <td>Our Deeds are the Reason of this #earthquake M...</td>\n",
       "      <td>1</td>\n",
       "    </tr>\n",
       "    <tr>\n",
       "      <th>1</th>\n",
       "      <td>4</td>\n",
       "      <td>NaN</td>\n",
       "      <td>NaN</td>\n",
       "      <td>Forest fire near La Ronge Sask. Canada</td>\n",
       "      <td>1</td>\n",
       "    </tr>\n",
       "    <tr>\n",
       "      <th>2</th>\n",
       "      <td>5</td>\n",
       "      <td>NaN</td>\n",
       "      <td>NaN</td>\n",
       "      <td>All residents asked to 'shelter in place' are ...</td>\n",
       "      <td>1</td>\n",
       "    </tr>\n",
       "    <tr>\n",
       "      <th>3</th>\n",
       "      <td>6</td>\n",
       "      <td>NaN</td>\n",
       "      <td>NaN</td>\n",
       "      <td>13,000 people receive #wildfires evacuation or...</td>\n",
       "      <td>1</td>\n",
       "    </tr>\n",
       "    <tr>\n",
       "      <th>4</th>\n",
       "      <td>7</td>\n",
       "      <td>NaN</td>\n",
       "      <td>NaN</td>\n",
       "      <td>Just got sent this photo from Ruby #Alaska as ...</td>\n",
       "      <td>1</td>\n",
       "    </tr>\n",
       "  </tbody>\n",
       "</table>\n",
       "</div>"
      ],
      "text/plain": [
       "   id keyword location                                               text  \\\n",
       "0   1     NaN      NaN  Our Deeds are the Reason of this #earthquake M...   \n",
       "1   4     NaN      NaN             Forest fire near La Ronge Sask. Canada   \n",
       "2   5     NaN      NaN  All residents asked to 'shelter in place' are ...   \n",
       "3   6     NaN      NaN  13,000 people receive #wildfires evacuation or...   \n",
       "4   7     NaN      NaN  Just got sent this photo from Ruby #Alaska as ...   \n",
       "\n",
       "   target  \n",
       "0       1  \n",
       "1       1  \n",
       "2       1  \n",
       "3       1  \n",
       "4       1  "
      ]
     },
     "execution_count": 13,
     "metadata": {},
     "output_type": "execute_result"
    }
   ],
   "source": [
    "train_data = pd.read_csv(train_data_dir )\n",
    "test_data = pd.read_csv(test_data_dir)                         \n",
    "\n",
    "train_data.head()\n"
   ]
  },
  {
   "cell_type": "code",
   "execution_count": 14,
   "id": "6989c12e",
   "metadata": {},
   "outputs": [
    {
     "name": "stdout",
     "output_type": "stream",
     "text": [
      "<class 'pandas.core.frame.DataFrame'>\n",
      "RangeIndex: 7613 entries, 0 to 7612\n",
      "Data columns (total 5 columns):\n",
      " #   Column    Non-Null Count  Dtype \n",
      "---  ------    --------------  ----- \n",
      " 0   id        7613 non-null   int64 \n",
      " 1   keyword   7552 non-null   object\n",
      " 2   location  5080 non-null   object\n",
      " 3   text      7613 non-null   object\n",
      " 4   target    7613 non-null   int64 \n",
      "dtypes: int64(2), object(3)\n",
      "memory usage: 297.5+ KB\n"
     ]
    }
   ],
   "source": [
    "train_data.info()"
   ]
  },
  {
   "cell_type": "code",
   "execution_count": 15,
   "id": "9371b98a",
   "metadata": {},
   "outputs": [
    {
     "data": {
      "text/plain": [
       "0    4342\n",
       "1    3271\n",
       "Name: target, dtype: int64"
      ]
     },
     "execution_count": 15,
     "metadata": {},
     "output_type": "execute_result"
    }
   ],
   "source": [
    "train_data[\"target\"].value_counts()"
   ]
  },
  {
   "cell_type": "code",
   "execution_count": 16,
   "id": "c9a93340",
   "metadata": {},
   "outputs": [],
   "source": [
    "train_text = train_data[\"text\"]\n",
    "train_label = train_data[\"target\"]\n",
    "train_location = train_data[\"location\"]\n",
    "train_keyword = train_data[\"keyword\"]\n",
    "\n",
    "test_text = test_data[\"text\"]\n",
    "test_location = test_data[\"location\"]\n",
    "test_keyword = test_data[\"keyword\"]"
   ]
  },
  {
   "cell_type": "code",
   "execution_count": 17,
   "id": "471974e9",
   "metadata": {},
   "outputs": [
    {
     "data": {
      "text/html": [
       "<div>\n",
       "<style scoped>\n",
       "    .dataframe tbody tr th:only-of-type {\n",
       "        vertical-align: middle;\n",
       "    }\n",
       "\n",
       "    .dataframe tbody tr th {\n",
       "        vertical-align: top;\n",
       "    }\n",
       "\n",
       "    .dataframe thead th {\n",
       "        text-align: right;\n",
       "    }\n",
       "</style>\n",
       "<table border=\"1\" class=\"dataframe\">\n",
       "  <thead>\n",
       "    <tr style=\"text-align: right;\">\n",
       "      <th></th>\n",
       "      <th>id</th>\n",
       "      <th>keyword</th>\n",
       "      <th>location</th>\n",
       "      <th>text</th>\n",
       "    </tr>\n",
       "  </thead>\n",
       "  <tbody>\n",
       "    <tr>\n",
       "      <th>0</th>\n",
       "      <td>0</td>\n",
       "      <td>NaN</td>\n",
       "      <td>NaN</td>\n",
       "      <td>Just happened a terrible car crash</td>\n",
       "    </tr>\n",
       "    <tr>\n",
       "      <th>1</th>\n",
       "      <td>2</td>\n",
       "      <td>NaN</td>\n",
       "      <td>NaN</td>\n",
       "      <td>Heard about #earthquake is different cities, s...</td>\n",
       "    </tr>\n",
       "    <tr>\n",
       "      <th>2</th>\n",
       "      <td>3</td>\n",
       "      <td>NaN</td>\n",
       "      <td>NaN</td>\n",
       "      <td>there is a forest fire at spot pond, geese are...</td>\n",
       "    </tr>\n",
       "    <tr>\n",
       "      <th>3</th>\n",
       "      <td>9</td>\n",
       "      <td>NaN</td>\n",
       "      <td>NaN</td>\n",
       "      <td>Apocalypse lighting. #Spokane #wildfires</td>\n",
       "    </tr>\n",
       "    <tr>\n",
       "      <th>4</th>\n",
       "      <td>11</td>\n",
       "      <td>NaN</td>\n",
       "      <td>NaN</td>\n",
       "      <td>Typhoon Soudelor kills 28 in China and Taiwan</td>\n",
       "    </tr>\n",
       "  </tbody>\n",
       "</table>\n",
       "</div>"
      ],
      "text/plain": [
       "   id keyword location                                               text\n",
       "0   0     NaN      NaN                 Just happened a terrible car crash\n",
       "1   2     NaN      NaN  Heard about #earthquake is different cities, s...\n",
       "2   3     NaN      NaN  there is a forest fire at spot pond, geese are...\n",
       "3   9     NaN      NaN           Apocalypse lighting. #Spokane #wildfires\n",
       "4  11     NaN      NaN      Typhoon Soudelor kills 28 in China and Taiwan"
      ]
     },
     "execution_count": 17,
     "metadata": {},
     "output_type": "execute_result"
    }
   ],
   "source": [
    "test_data.head()"
   ]
  },
  {
   "cell_type": "code",
   "execution_count": 18,
   "id": "854dde44",
   "metadata": {},
   "outputs": [
    {
     "data": {
      "text/plain": [
       "['@noah_anyname The utopian impulse inevitably ends in gulags and mass murder.',\n",
       " 'Mere sight of a gun makes police \\x89ÛÒ and public \\x89ÛÒ more aggressive experts say http://t.co/N4NEUIyt2k',\n",
       " 'Firefighting consumes Forest Service budget sparks political clash: Forest Service report cites increasing cost of\\x89Û_ http://t.co/lSWsitnkuk',\n",
       " 'Rescued Med migrants arrive in Sicily http://t.co/Z8xIqNgulc',\n",
       " 'The U.S. bombed Hiroshima 70 years ago today. A look at how war has changed since: http://t.co/UQnj6nk9y3 http://t.co/QLnnMxzFqK',\n",
       " '&lt;meltdown of proportions commences I manage to calm myself long enough to turn the waters to hot and wait for the steam to cloud my vision-',\n",
       " \"@oooureli @Abu_Baraa1 You mean like the tolerance you showed when sharing 'democracy' with the Iraqis? Wait you mutilated and bombed them.\",\n",
       " 'Wtf Thomas Edison after making the lightbulb used to electrocute animals to make everyone think Teslas power was unsafe???? wank',\n",
       " '@thetimepast @saalon I have childhood trauma more resolved than theirs. Actual trauma. Fricken babies.',\n",
       " \"The universe might not actually exist scientists say http://t.co/DEfJ7XeKgX 'The #SUN blew up and the #Earth began'...\"]"
      ]
     },
     "execution_count": 18,
     "metadata": {},
     "output_type": "execute_result"
    }
   ],
   "source": [
    "import random\n",
    "\n",
    "random.choices(train_text, k =10)"
   ]
  },
  {
   "cell_type": "code",
   "execution_count": 27,
   "id": "c4a7b407",
   "metadata": {},
   "outputs": [
    {
     "data": {
      "text/plain": [
       "101.03743596479706"
      ]
     },
     "execution_count": 27,
     "metadata": {},
     "output_type": "execute_result"
    }
   ],
   "source": [
    "plt_list = []\n",
    "leng = 0\n",
    "for text in train_text:\n",
    "    plt_list.append(len(text))\n",
    "    leng =leng + len(text)\n",
    "\n",
    "leng/len(train_text)"
   ]
  },
  {
   "cell_type": "code",
   "execution_count": 28,
   "id": "7d9bf9f0",
   "metadata": {},
   "outputs": [
    {
     "data": {
      "image/png": "[encoded data removed]",
      "text/plain": [
       "<Figure size 640x480 with 1 Axes>"
      ]
     },
     "metadata": {},
     "output_type": "display_data"
    }
   ],
   "source": [
    "plt.hist(plt_list);"
   ]
  },
  {
   "cell_type": "code",
   "execution_count": 20,
   "id": "b822633b",
   "metadata": {},
   "outputs": [
    {
     "data": {
      "text/plain": [
       "['Indonesia',\n",
       " nan,\n",
       " nan,\n",
       " nan,\n",
       " '???? ???????',\n",
       " nan,\n",
       " nan,\n",
       " 'Ile-Ife,Osun state, Nigeria',\n",
       " 'Waterford MI',\n",
       " nan]"
      ]
     },
     "execution_count": 20,
     "metadata": {},
     "output_type": "execute_result"
    }
   ],
   "source": [
    "random.choices(train_location , k = 10)"
   ]
  },
  {
   "cell_type": "code",
   "execution_count": 21,
   "id": "f7b32123",
   "metadata": {},
   "outputs": [
    {
     "data": {
      "text/plain": [
       "['danger',\n",
       " 'sinkhole',\n",
       " 'buildings%20on%20fire',\n",
       " nan,\n",
       " 'ablaze',\n",
       " 'sinking',\n",
       " 'fire%20truck',\n",
       " 'upheaval',\n",
       " 'radiation%20emergency',\n",
       " 'twister']"
      ]
     },
     "execution_count": 21,
     "metadata": {},
     "output_type": "execute_result"
    }
   ],
   "source": [
    "random.choices(train_keyword, k = 10)"
   ]
  },
  {
   "cell_type": "code",
   "execution_count": 31,
   "id": "a3e80071",
   "metadata": {},
   "outputs": [],
   "source": [
    "max_vocab = 10000\n",
    "output_length = 150\n",
    "\n",
    "text_vector = layers.TextVectorization(max_tokens = max_vocab , output_sequence_length=output_length )\n",
    "\n",
    "text_embed = layers.Embedding(max_vocab, 128, mask_zero=True)\n",
    "\n",
    "text_vector.adapt(train_text)"
   ]
  },
  {
   "cell_type": "code",
   "execution_count": 38,
   "id": "25a0af3e",
   "metadata": {},
   "outputs": [],
   "source": [
    "train_sentences, val_sentences , train_target , val_target = train_test_split(\n",
    "                                                                train_text,\n",
    "                                                                train_label,\n",
    "                                                                test_size = 0.3,\n",
    "                                                                random_state = 42)"
   ]
  },
  {
   "cell_type": "code",
   "execution_count": 91,
   "id": "51e06c06",
   "metadata": {},
   "outputs": [],
   "source": [
    "# train_target = tf.cast(train_target, tf.float64)\n",
    "# train_target = np.expand_dims(train_target , axis =1)\n",
    "\n",
    "# val_target = tf.cast(val_target, tf.float64)\n",
    "# val_target = np.expand_dims(val_target , axis =1)"
   ]
  },
  {
   "cell_type": "code",
   "execution_count": 94,
   "id": "559e3122",
   "metadata": {},
   "outputs": [],
   "source": [
    "train_dataset_0 = tf.data.Dataset.from_tensor_slices((train_sentences, train_target))\n",
    "val_dataset_0 = tf.data.Dataset.from_tensor_slices((val_sentences, val_target))\n",
    "\n",
    "train_dataset_0 = train_dataset_0.batch(32).prefetch(tf.data.AUTOTUNE)\n",
    "val_dataset_0 = val_dataset_0.batch(32).prefetch(tf.data.AUTOTUNE)"
   ]
  },
  {
   "cell_type": "code",
   "execution_count": 95,
   "id": "d682a534",
   "metadata": {},
   "outputs": [
    {
     "data": {
      "text/plain": [
       "<_PrefetchDataset element_spec=(TensorSpec(shape=(None,), dtype=tf.string, name=None), TensorSpec(shape=(None, 1, 1), dtype=tf.float64, name=None))>"
      ]
     },
     "execution_count": 95,
     "metadata": {},
     "output_type": "execute_result"
    }
   ],
   "source": [
    "train_dataset_0"
   ]
  },
  {
   "cell_type": "code",
   "execution_count": 96,
   "id": "acbb07d9",
   "metadata": {},
   "outputs": [
    {
     "data": {
      "text/plain": [
       "(TensorSpec(shape=(None,), dtype=tf.string, name=None),\n",
       " TensorSpec(shape=(None, 1, 1), dtype=tf.float64, name=None))"
      ]
     },
     "execution_count": 96,
     "metadata": {},
     "output_type": "execute_result"
    }
   ],
   "source": [
    "train_dataset_0.element_spec"
   ]
  },
  {
   "cell_type": "code",
   "execution_count": 97,
   "id": "e930ec6a",
   "metadata": {},
   "outputs": [
    {
     "name": "stdout",
     "output_type": "stream",
     "text": [
      "Model: \"model_9\"\n",
      "_________________________________________________________________\n",
      " Layer (type)                Output Shape              Param #   \n",
      "=================================================================\n",
      " input_12 (InputLayer)       [(None, 1)]               0         \n",
      "                                                                 \n",
      " text_vectorization (TextVec  (None, 150)              0         \n",
      " torization)                                                     \n",
      "                                                                 \n",
      " embedding (Embedding)       (None, 150, 128)          1280000   \n",
      "                                                                 \n",
      " conv1d_12 (Conv1D)          (None, 149, 64)           16448     \n",
      "                                                                 \n",
      " global_average_pooling1d_10  (None, 64)               0         \n",
      "  (GlobalAveragePooling1D)                                       \n",
      "                                                                 \n",
      " dense_28 (Dense)            (None, 64)                4160      \n",
      "                                                                 \n",
      " dense_29 (Dense)            (None, 64)                4160      \n",
      "                                                                 \n",
      " dense_30 (Dense)            (None, 1)                 65        \n",
      "                                                                 \n",
      "=================================================================\n",
      "Total params: 1,304,833\n",
      "Trainable params: 1,304,833\n",
      "Non-trainable params: 0\n",
      "_________________________________________________________________\n"
     ]
    }
   ],
   "source": [
    "inputs = layers.Input(shape = (1,) , dtype = tf.string)\n",
    "\n",
    "x = text_vector(inputs)\n",
    "x = text_embed(x)\n",
    "\n",
    "x = layers.Conv1D(64, 2, activation = \"tanh\")(x)\n",
    "\n",
    "\n",
    "x = layers.GlobalAveragePooling1D()(x)\n",
    "x = layers.Dense(64 , activation = \"tanh\")(x)\n",
    "x = layers.Dense(64, activation = \"tanh\")(x)\n",
    "\n",
    "outputs = layers.Dense(1, activation = \"sigmoid\")(x)\n",
    "\n",
    "model_0 = tf.keras.Model(inputs , outputs)\n",
    "\n",
    "model_0.summary()"
   ]
  },
  {
   "cell_type": "code",
   "execution_count": 99,
   "id": "27850158",
   "metadata": {},
   "outputs": [
    {
     "name": "stdout",
     "output_type": "stream",
     "text": [
      "Epoch 1/10\n",
      "167/167 [==============================] - 8s 40ms/step - loss: 0.0739 - accuracy: 0.9743 - val_loss: 0.9011 - val_accuracy: 0.7706\n",
      "Epoch 2/10\n",
      "167/167 [==============================] - 6s 37ms/step - loss: 0.0646 - accuracy: 0.9786 - val_loss: 0.9663 - val_accuracy: 0.7666\n",
      "Epoch 3/10\n",
      "167/167 [==============================] - 6s 38ms/step - loss: 0.0604 - accuracy: 0.9773 - val_loss: 0.9941 - val_accuracy: 0.7631\n",
      "Epoch 4/10\n",
      "167/167 [==============================] - 6s 37ms/step - loss: 0.0602 - accuracy: 0.9782 - val_loss: 1.0052 - val_accuracy: 0.7439\n",
      "Epoch 5/10\n",
      "167/167 [==============================] - 6s 38ms/step - loss: 0.0649 - accuracy: 0.9765 - val_loss: 1.0288 - val_accuracy: 0.7272\n",
      "Epoch 6/10\n",
      "167/167 [==============================] - 7s 39ms/step - loss: 0.0767 - accuracy: 0.9732 - val_loss: 1.0411 - val_accuracy: 0.7207\n",
      "Epoch 7/10\n",
      "167/167 [==============================] - 6s 38ms/step - loss: 0.0910 - accuracy: 0.9643 - val_loss: 1.0617 - val_accuracy: 0.6808\n",
      "Epoch 8/10\n",
      "167/167 [==============================] - 6s 38ms/step - loss: 0.0954 - accuracy: 0.9666 - val_loss: 1.1925 - val_accuracy: 0.6327\n",
      "Epoch 9/10\n",
      "167/167 [==============================] - 6s 37ms/step - loss: 0.0888 - accuracy: 0.9675 - val_loss: 0.9354 - val_accuracy: 0.6799\n",
      "Epoch 10/10\n",
      "167/167 [==============================] - 6s 37ms/step - loss: 0.0673 - accuracy: 0.9747 - val_loss: 0.9690 - val_accuracy: 0.7023\n"
     ]
    },
    {
     "data": {
      "text/plain": [
       "<keras.callbacks.History at 0x13d57099310>"
      ]
     },
     "execution_count": 99,
     "metadata": {},
     "output_type": "execute_result"
    }
   ],
   "source": [
    "model_0.compile(loss = \"binary_crossentropy\",\n",
    "               optimizer = \"adam\",\n",
    "               metrics = [\"accuracy\"])\n",
    "\n",
    "model_0.fit(train_dataset_0, \n",
    "           epochs = 10 ,\n",
    "           validation_data=val_dataset_0)"
   ]
  },
  {
   "cell_type": "code",
   "execution_count": 59,
   "id": "3386f893",
   "metadata": {},
   "outputs": [
    {
     "data": {
      "text/plain": [
       "1186    0\n",
       "4071    1\n",
       "5461    1\n",
       "5787    1\n",
       "7445    0\n",
       "       ..\n",
       "5226    0\n",
       "5390    0\n",
       "860     0\n",
       "7603    1\n",
       "7270    1\n",
       "Name: target, Length: 5329, dtype: int64"
      ]
     },
     "execution_count": 59,
     "metadata": {},
     "output_type": "execute_result"
    }
   ],
   "source": [
    "train_target"
   ]
  },
  {
   "cell_type": "code",
   "execution_count": null,
   "id": "d0d7c96f",
   "metadata": {},
   "outputs": [],
   "source": []
  }
 ],
 "metadata": {
  "kernelspec": {
   "display_name": "Python 3 (ipykernel)",
   "language": "python",
   "name": "python3"
  },
  "language_info": {
   "codemirror_mode": {
    "name": "ipython",
    "version": 3
   },
   "file_extension": ".py",
   "mimetype": "text/x-python",
   "name": "python",
   "nbconvert_exporter": "python",
   "pygments_lexer": "ipython3",
   "version": "3.11.2"
  }
 },
 "nbformat": 4,
 "nbformat_minor": 5
}
