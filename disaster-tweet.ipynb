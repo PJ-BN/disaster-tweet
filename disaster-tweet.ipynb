{
 "cells": [
  {
   "cell_type": "markdown",
   "id": "59a534c1",
   "metadata": {},
   "source": [
    "# Project :Disaster-Tweet\n",
    "\n",
    "    The propose of this notebook is to create a NLP model which classifies the tweet into two part:\n",
    "    * Disaster-tweet :\n",
    "                All the tweet which contains information about the natural disaster happening around the globe will be                         classified as disaster tweet\n",
    "    * Non-disaster tweet :\n",
    "                Except disaster tweet all remaining other tweets is classified as non-disaster tweet"
   ]
  },
  {
   "cell_type": "markdown",
   "id": "48613d3e",
   "metadata": {},
   "source": [
    "## Importing all needed module"
   ]
  },
  {
   "cell_type": "code",
   "execution_count": 3,
   "id": "7cfea9a4",
   "metadata": {},
   "outputs": [],
   "source": [
    "import tensorflow as tf\n",
    "import pandas as pd\n",
    "import tensorflow.keras as keras\n",
    "import tensorflow.keras.layers as layers\n",
    "import matplotlib.pyplot as plt\n",
    "from sklearn.model_selection import train_test_split\n",
    "import numpy as np"
   ]
  },
  {
   "cell_type": "markdown",
   "id": "f8856799",
   "metadata": {},
   "source": [
    "## Setting up my own helper module"
   ]
  },
  {
   "cell_type": "code",
   "execution_count": 4,
   "id": "f7cb8881",
   "metadata": {},
   "outputs": [
    {
     "name": "stderr",
     "output_type": "stream",
     "text": [
      "--2023-02-23 16:37:03--  https://raw.githubusercontent.com/PJ-BN/Helper-module/main/helperfunc.py\n",
      "Resolving raw.githubusercontent.com (raw.githubusercontent.com)... 185.199.110.133, 185.199.111.133, 185.199.108.133, ...\n",
      "Connecting to raw.githubusercontent.com (raw.githubusercontent.com)|185.199.110.133|:443... connected.\n",
      "HTTP request sent, awaiting response... 200 OK\n",
      "Length: 10449 (10K) [text/plain]\n",
      "Saving to: 'helperfunc.py.1'\n",
      "\n",
      "     0K ..........                                            100%  621K=0.02s\n",
      "\n",
      "2023-02-23 16:37:03 (621 KB/s) - 'helperfunc.py.1' saved [10449/10449]\n",
      "\n"
     ]
    }
   ],
   "source": [
    "!wget https://raw.githubusercontent.com/PJ-BN/Helper-module/main/helperfunc.py"
   ]
  },
  {
   "cell_type": "code",
   "execution_count": 5,
   "id": "10e7c37f",
   "metadata": {},
   "outputs": [],
   "source": [
    "from helperfunc import calculate_results"
   ]
  },
  {
   "cell_type": "markdown",
   "id": "43c40996",
   "metadata": {},
   "source": [
    "## Get the data"
   ]
  },
  {
   "cell_type": "code",
   "execution_count": 6,
   "id": "3a68ad65",
   "metadata": {},
   "outputs": [],
   "source": [
    "data_dir =\"C:\\\\Users\\\\USER\\\\Documents\\\\ML\\\\NLP\\\\disaster\\\\src\\\\disaster-tweet\\\\\"\n",
    "train_data_dir = data_dir + \"train.csv\"\n",
    "test_data_dir = data_dir + \"test.csv\""
   ]
  },
  {
   "cell_type": "markdown",
   "id": "01c7bd08",
   "metadata": {},
   "source": [
    "## Visualizing the data"
   ]
  },
  {
   "cell_type": "code",
   "execution_count": 7,
   "id": "115d5621",
   "metadata": {},
   "outputs": [
    {
     "data": {
      "text/html": [
       "<div>\n",
       "<style scoped>\n",
       "    .dataframe tbody tr th:only-of-type {\n",
       "        vertical-align: middle;\n",
       "    }\n",
       "\n",
       "    .dataframe tbody tr th {\n",
       "        vertical-align: top;\n",
       "    }\n",
       "\n",
       "    .dataframe thead th {\n",
       "        text-align: right;\n",
       "    }\n",
       "</style>\n",
       "<table border=\"1\" class=\"dataframe\">\n",
       "  <thead>\n",
       "    <tr style=\"text-align: right;\">\n",
       "      <th></th>\n",
       "      <th>id</th>\n",
       "      <th>keyword</th>\n",
       "      <th>location</th>\n",
       "      <th>text</th>\n",
       "      <th>target</th>\n",
       "    </tr>\n",
       "  </thead>\n",
       "  <tbody>\n",
       "    <tr>\n",
       "      <th>0</th>\n",
       "      <td>1</td>\n",
       "      <td>NaN</td>\n",
       "      <td>NaN</td>\n",
       "      <td>Our Deeds are the Reason of this #earthquake M...</td>\n",
       "      <td>1</td>\n",
       "    </tr>\n",
       "    <tr>\n",
       "      <th>1</th>\n",
       "      <td>4</td>\n",
       "      <td>NaN</td>\n",
       "      <td>NaN</td>\n",
       "      <td>Forest fire near La Ronge Sask. Canada</td>\n",
       "      <td>1</td>\n",
       "    </tr>\n",
       "    <tr>\n",
       "      <th>2</th>\n",
       "      <td>5</td>\n",
       "      <td>NaN</td>\n",
       "      <td>NaN</td>\n",
       "      <td>All residents asked to 'shelter in place' are ...</td>\n",
       "      <td>1</td>\n",
       "    </tr>\n",
       "    <tr>\n",
       "      <th>3</th>\n",
       "      <td>6</td>\n",
       "      <td>NaN</td>\n",
       "      <td>NaN</td>\n",
       "      <td>13,000 people receive #wildfires evacuation or...</td>\n",
       "      <td>1</td>\n",
       "    </tr>\n",
       "    <tr>\n",
       "      <th>4</th>\n",
       "      <td>7</td>\n",
       "      <td>NaN</td>\n",
       "      <td>NaN</td>\n",
       "      <td>Just got sent this photo from Ruby #Alaska as ...</td>\n",
       "      <td>1</td>\n",
       "    </tr>\n",
       "  </tbody>\n",
       "</table>\n",
       "</div>"
      ],
      "text/plain": [
       "   id keyword location                                               text  \\\n",
       "0   1     NaN      NaN  Our Deeds are the Reason of this #earthquake M...   \n",
       "1   4     NaN      NaN             Forest fire near La Ronge Sask. Canada   \n",
       "2   5     NaN      NaN  All residents asked to 'shelter in place' are ...   \n",
       "3   6     NaN      NaN  13,000 people receive #wildfires evacuation or...   \n",
       "4   7     NaN      NaN  Just got sent this photo from Ruby #Alaska as ...   \n",
       "\n",
       "   target  \n",
       "0       1  \n",
       "1       1  \n",
       "2       1  \n",
       "3       1  \n",
       "4       1  "
      ]
     },
     "execution_count": 7,
     "metadata": {},
     "output_type": "execute_result"
    }
   ],
   "source": [
    "train_data = pd.read_csv(train_data_dir )\n",
    "test_data = pd.read_csv(test_data_dir)                         \n",
    "\n",
    "train_data.head()\n"
   ]
  },
  {
   "cell_type": "code",
   "execution_count": 8,
   "id": "6989c12e",
   "metadata": {},
   "outputs": [
    {
     "name": "stdout",
     "output_type": "stream",
     "text": [
      "<class 'pandas.core.frame.DataFrame'>\n",
      "RangeIndex: 7613 entries, 0 to 7612\n",
      "Data columns (total 5 columns):\n",
      " #   Column    Non-Null Count  Dtype \n",
      "---  ------    --------------  ----- \n",
      " 0   id        7613 non-null   int64 \n",
      " 1   keyword   7552 non-null   object\n",
      " 2   location  5080 non-null   object\n",
      " 3   text      7613 non-null   object\n",
      " 4   target    7613 non-null   int64 \n",
      "dtypes: int64(2), object(3)\n",
      "memory usage: 297.5+ KB\n"
     ]
    }
   ],
   "source": [
    "train_data.info()"
   ]
  },
  {
   "cell_type": "code",
   "execution_count": 9,
   "id": "9371b98a",
   "metadata": {},
   "outputs": [
    {
     "data": {
      "text/plain": [
       "0    4342\n",
       "1    3271\n",
       "Name: target, dtype: int64"
      ]
     },
     "execution_count": 9,
     "metadata": {},
     "output_type": "execute_result"
    }
   ],
   "source": [
    "train_data[\"target\"].value_counts()"
   ]
  },
  {
   "cell_type": "code",
   "execution_count": 10,
   "id": "c9a93340",
   "metadata": {},
   "outputs": [],
   "source": [
    "train_text = train_data[\"text\"]\n",
    "train_label = train_data[\"target\"]\n",
    "train_location = train_data[\"location\"]\n",
    "train_keyword = train_data[\"keyword\"]\n",
    "\n",
    "test_text = test_data[\"text\"]\n",
    "test_location = test_data[\"location\"]\n",
    "test_keyword = test_data[\"keyword\"]"
   ]
  },
  {
   "cell_type": "code",
   "execution_count": 11,
   "id": "471974e9",
   "metadata": {},
   "outputs": [
    {
     "data": {
      "text/html": [
       "<div>\n",
       "<style scoped>\n",
       "    .dataframe tbody tr th:only-of-type {\n",
       "        vertical-align: middle;\n",
       "    }\n",
       "\n",
       "    .dataframe tbody tr th {\n",
       "        vertical-align: top;\n",
       "    }\n",
       "\n",
       "    .dataframe thead th {\n",
       "        text-align: right;\n",
       "    }\n",
       "</style>\n",
       "<table border=\"1\" class=\"dataframe\">\n",
       "  <thead>\n",
       "    <tr style=\"text-align: right;\">\n",
       "      <th></th>\n",
       "      <th>id</th>\n",
       "      <th>keyword</th>\n",
       "      <th>location</th>\n",
       "      <th>text</th>\n",
       "    </tr>\n",
       "  </thead>\n",
       "  <tbody>\n",
       "    <tr>\n",
       "      <th>0</th>\n",
       "      <td>0</td>\n",
       "      <td>NaN</td>\n",
       "      <td>NaN</td>\n",
       "      <td>Just happened a terrible car crash</td>\n",
       "    </tr>\n",
       "    <tr>\n",
       "      <th>1</th>\n",
       "      <td>2</td>\n",
       "      <td>NaN</td>\n",
       "      <td>NaN</td>\n",
       "      <td>Heard about #earthquake is different cities, s...</td>\n",
       "    </tr>\n",
       "    <tr>\n",
       "      <th>2</th>\n",
       "      <td>3</td>\n",
       "      <td>NaN</td>\n",
       "      <td>NaN</td>\n",
       "      <td>there is a forest fire at spot pond, geese are...</td>\n",
       "    </tr>\n",
       "    <tr>\n",
       "      <th>3</th>\n",
       "      <td>9</td>\n",
       "      <td>NaN</td>\n",
       "      <td>NaN</td>\n",
       "      <td>Apocalypse lighting. #Spokane #wildfires</td>\n",
       "    </tr>\n",
       "    <tr>\n",
       "      <th>4</th>\n",
       "      <td>11</td>\n",
       "      <td>NaN</td>\n",
       "      <td>NaN</td>\n",
       "      <td>Typhoon Soudelor kills 28 in China and Taiwan</td>\n",
       "    </tr>\n",
       "  </tbody>\n",
       "</table>\n",
       "</div>"
      ],
      "text/plain": [
       "   id keyword location                                               text\n",
       "0   0     NaN      NaN                 Just happened a terrible car crash\n",
       "1   2     NaN      NaN  Heard about #earthquake is different cities, s...\n",
       "2   3     NaN      NaN  there is a forest fire at spot pond, geese are...\n",
       "3   9     NaN      NaN           Apocalypse lighting. #Spokane #wildfires\n",
       "4  11     NaN      NaN      Typhoon Soudelor kills 28 in China and Taiwan"
      ]
     },
     "execution_count": 11,
     "metadata": {},
     "output_type": "execute_result"
    }
   ],
   "source": [
    "test_data.head()"
   ]
  },
  {
   "cell_type": "code",
   "execution_count": 12,
   "id": "854dde44",
   "metadata": {},
   "outputs": [
    {
     "data": {
      "text/plain": [
       "[\"OMG NIXON LIVES! That is Richard M. Nixon Tricky Dicky right there in the picture isn't it. Hiding in Calgary he... http://t.co/MIUsvPxQTE\",\n",
       " 'Online infantryman experimental military training tutorials shower down upon assertative intelligence as regard...',\n",
       " 'Horrible Accident Man Died In Wings of Airplane (29-07-2015) http://t.co/TfcdRONRA6',\n",
       " 'WHY THE DEEP ROADS THO HAHAHAHA IM SO TRAUMATISED BY THE DEEP ROADS LOLOL',\n",
       " \"#360WiseNews : China's Stock Market Crash: Are There Gems In The Rubble? http://t.co/gQskwqZuUl\",\n",
       " 'Satellite Spies Super Typhoon Soudelor from Space (Photo) http://t.co/VBhu2t8wgB',\n",
       " 'Tell me why or why not\\nto adopt in this way\\nmaybe I overlooked something\\nfatal for me\\n?whyor why not?',\n",
       " 'How many trains derailed that @wmata has to shut down orange/blue in most of DC? The Avengers made less of a mess @unsuckdcmetro',\n",
       " 'I know where to go when the zombies take over!! http://t.co/hUTHXlkyxy',\n",
       " \"'Trust us to get rescued by the dopey ones!' Val is hilarious shame she's probably going to die #emmerdale\"]"
      ]
     },
     "execution_count": 12,
     "metadata": {},
     "output_type": "execute_result"
    }
   ],
   "source": [
    "import random\n",
    "\n",
    "random.choices(train_text, k =10)"
   ]
  },
  {
   "cell_type": "code",
   "execution_count": 13,
   "id": "c4a7b407",
   "metadata": {},
   "outputs": [
    {
     "data": {
      "text/plain": [
       "101.03743596479706"
      ]
     },
     "execution_count": 13,
     "metadata": {},
     "output_type": "execute_result"
    }
   ],
   "source": [
    "plt_list = []\n",
    "leng = 0\n",
    "for text in train_text:\n",
    "    plt_list.append(len(text))\n",
    "    leng =leng + len(text)\n",
    "\n",
    "leng/len(train_text)"
   ]
  },
  {
   "cell_type": "code",
   "execution_count": 14,
   "id": "7d9bf9f0",
   "metadata": {},
   "outputs": [
    {
     "data": {
      "image/png": "[encoded data removed]",
      "text/plain": [
       "<Figure size 640x480 with 1 Axes>"
      ]
     },
     "metadata": {},
     "output_type": "display_data"
    }
   ],
   "source": [
    "plt.hist(plt_list);"
   ]
  },
  {
   "cell_type": "code",
   "execution_count": 15,
   "id": "b822633b",
   "metadata": {},
   "outputs": [
    {
     "data": {
      "text/plain": [
       "[nan,\n",
       " nan,\n",
       " 'Henderson, NV',\n",
       " 'Broadview Heights, Ohio',\n",
       " 'potters bar',\n",
       " nan,\n",
       " 'Holland MI via Houston, CLE',\n",
       " 'MÌ©xico',\n",
       " 'Ikeja, Nigeria',\n",
       " 'Long Eaton åá Derbyshire åá UK']"
      ]
     },
     "execution_count": 15,
     "metadata": {},
     "output_type": "execute_result"
    }
   ],
   "source": [
    "random.choices(train_location , k = 10)"
   ]
  },
  {
   "cell_type": "code",
   "execution_count": 16,
   "id": "f7b32123",
   "metadata": {},
   "outputs": [
    {
     "data": {
      "text/plain": [
       "['hailstorm',\n",
       " 'hellfire',\n",
       " 'blizzard',\n",
       " 'detonate',\n",
       " 'ambulance',\n",
       " 'deaths',\n",
       " 'crash',\n",
       " 'blood',\n",
       " 'derail',\n",
       " 'upheaval']"
      ]
     },
     "execution_count": 16,
     "metadata": {},
     "output_type": "execute_result"
    }
   ],
   "source": [
    "random.choices(train_keyword, k = 10)"
   ]
  },
  {
   "cell_type": "code",
   "execution_count": 17,
   "id": "a3e80071",
   "metadata": {},
   "outputs": [],
   "source": [
    "max_vocab = 10000\n",
    "output_length = 150\n",
    "\n",
    "text_vector = layers.TextVectorization(max_tokens = max_vocab , output_sequence_length=output_length )\n",
    "\n",
    "text_embed = layers.Embedding(max_vocab, 128, mask_zero=True)\n",
    "\n",
    "text_vector.adapt(train_text)"
   ]
  },
  {
   "cell_type": "code",
   "execution_count": 18,
   "id": "25a0af3e",
   "metadata": {},
   "outputs": [],
   "source": [
    "train_sentences, val_sentences , train_target , val_target = train_test_split(\n",
    "                                                                train_text,\n",
    "                                                                train_label,\n",
    "                                                                test_size = 0.3,\n",
    "                                                                random_state = 42)"
   ]
  },
  {
   "cell_type": "markdown",
   "id": "bddc51cd",
   "metadata": {},
   "source": [
    "## Creating a dataset for the module"
   ]
  },
  {
   "cell_type": "code",
   "execution_count": 20,
   "id": "559e3122",
   "metadata": {},
   "outputs": [],
   "source": [
    "train_dataset_0 = tf.data.Dataset.from_tensor_slices((train_sentences, train_target))\n",
    "val_dataset_0 = tf.data.Dataset.from_tensor_slices((val_sentences, val_target))\n",
    "\n",
    "train_dataset_0 = train_dataset_0.batch(32).prefetch(tf.data.AUTOTUNE)\n",
    "val_dataset_0 = val_dataset_0.batch(32).prefetch(tf.data.AUTOTUNE)"
   ]
  },
  {
   "cell_type": "code",
   "execution_count": 21,
   "id": "d682a534",
   "metadata": {},
   "outputs": [
    {
     "data": {
      "text/plain": [
       "<_PrefetchDataset element_spec=(TensorSpec(shape=(None,), dtype=tf.string, name=None), TensorSpec(shape=(None,), dtype=tf.int64, name=None))>"
      ]
     },
     "execution_count": 21,
     "metadata": {},
     "output_type": "execute_result"
    }
   ],
   "source": [
    "train_dataset_0"
   ]
  },
  {
   "cell_type": "code",
   "execution_count": 22,
   "id": "acbb07d9",
   "metadata": {},
   "outputs": [
    {
     "data": {
      "text/plain": [
       "(TensorSpec(shape=(None,), dtype=tf.string, name=None),\n",
       " TensorSpec(shape=(None,), dtype=tf.int64, name=None))"
      ]
     },
     "execution_count": 22,
     "metadata": {},
     "output_type": "execute_result"
    }
   ],
   "source": [
    "train_dataset_0.element_spec"
   ]
  },
  {
   "cell_type": "markdown",
   "id": "6741b9de",
   "metadata": {},
   "source": [
    "## Creating our first model using simple CNN method"
   ]
  },
  {
   "cell_type": "code",
   "execution_count": 23,
   "id": "e930ec6a",
   "metadata": {},
   "outputs": [
    {
     "name": "stdout",
     "output_type": "stream",
     "text": [
      "Model: \"model\"\n",
      "_________________________________________________________________\n",
      " Layer (type)                Output Shape              Param #   \n",
      "=================================================================\n",
      " input_1 (InputLayer)        [(None, 1)]               0         \n",
      "                                                                 \n",
      " text_vectorization (TextVec  (None, 150)              0         \n",
      " torization)                                                     \n",
      "                                                                 \n",
      " embedding (Embedding)       (None, 150, 128)          1280000   \n",
      "                                                                 \n",
      " conv1d (Conv1D)             (None, 149, 64)           16448     \n",
      "                                                                 \n",
      " global_average_pooling1d (G  (None, 64)               0         \n",
      " lobalAveragePooling1D)                                          \n",
      "                                                                 \n",
      " dense (Dense)               (None, 64)                4160      \n",
      "                                                                 \n",
      " dense_1 (Dense)             (None, 64)                4160      \n",
      "                                                                 \n",
      " dense_2 (Dense)             (None, 1)                 65        \n",
      "                                                                 \n",
      "=================================================================\n",
      "Total params: 1,304,833\n",
      "Trainable params: 1,304,833\n",
      "Non-trainable params: 0\n",
      "_________________________________________________________________\n"
     ]
    }
   ],
   "source": [
    "inputs = layers.Input(shape = (1,) , dtype = tf.string)\n",
    "\n",
    "x = text_vector(inputs)\n",
    "x = text_embed(x)\n",
    "\n",
    "x = layers.Conv1D(64, 2, activation = \"tanh\")(x)\n",
    "\n",
    "\n",
    "x = layers.GlobalAveragePooling1D()(x)\n",
    "x = layers.Dense(64 , activation = \"tanh\")(x)\n",
    "x = layers.Dense(64, activation = \"tanh\")(x)\n",
    "\n",
    "outputs = layers.Dense(1, activation = \"sigmoid\")(x)\n",
    "\n",
    "model_0 = tf.keras.Model(inputs , outputs)\n",
    "\n",
    "model_0.summary()"
   ]
  },
  {
   "cell_type": "code",
   "execution_count": 24,
   "id": "27850158",
   "metadata": {},
   "outputs": [
    {
     "name": "stdout",
     "output_type": "stream",
     "text": [
      "Epoch 1/10\n",
      "167/167 [==============================] - 9s 45ms/step - loss: 0.6839 - accuracy: 0.5746 - val_loss: 0.6581 - val_accuracy: 0.5775\n",
      "Epoch 2/10\n",
      "167/167 [==============================] - 7s 40ms/step - loss: 0.4900 - accuracy: 0.7634 - val_loss: 0.4994 - val_accuracy: 0.7890\n",
      "Epoch 3/10\n",
      "167/167 [==============================] - 7s 41ms/step - loss: 0.3478 - accuracy: 0.8480 - val_loss: 0.4926 - val_accuracy: 0.8135\n",
      "Epoch 4/10\n",
      "167/167 [==============================] - 7s 40ms/step - loss: 0.2859 - accuracy: 0.8808 - val_loss: 0.5532 - val_accuracy: 0.7977\n",
      "Epoch 5/10\n",
      "167/167 [==============================] - 7s 40ms/step - loss: 0.2617 - accuracy: 0.8979 - val_loss: 0.5702 - val_accuracy: 0.8039\n",
      "Epoch 6/10\n",
      "167/167 [==============================] - 7s 45ms/step - loss: 0.2140 - accuracy: 0.9146 - val_loss: 0.6160 - val_accuracy: 0.7968\n",
      "Epoch 7/10\n",
      "167/167 [==============================] - 8s 46ms/step - loss: 0.1977 - accuracy: 0.9176 - val_loss: 0.7124 - val_accuracy: 0.7518\n",
      "Epoch 8/10\n",
      "167/167 [==============================] - 7s 44ms/step - loss: 0.1949 - accuracy: 0.9191 - val_loss: 0.9803 - val_accuracy: 0.6598\n",
      "Epoch 9/10\n",
      "167/167 [==============================] - 8s 47ms/step - loss: 0.1409 - accuracy: 0.9473 - val_loss: 0.9943 - val_accuracy: 0.6839\n",
      "Epoch 10/10\n",
      "167/167 [==============================] - 10s 61ms/step - loss: 0.1178 - accuracy: 0.9568 - val_loss: 0.9207 - val_accuracy: 0.7128\n"
     ]
    },
    {
     "data": {
      "text/plain": [
       "<keras.callbacks.History at 0x1f2bf547a10>"
      ]
     },
     "execution_count": 24,
     "metadata": {},
     "output_type": "execute_result"
    }
   ],
   "source": [
    "model_0.compile(loss = \"binary_crossentropy\",\n",
    "               optimizer = \"adam\",\n",
    "               metrics = [\"accuracy\"])\n",
    "\n",
    "model_0.fit(train_dataset_0, \n",
    "           epochs = 10 ,\n",
    "           validation_data=val_dataset_0)"
   ]
  },
  {
   "cell_type": "code",
   "execution_count": 25,
   "id": "3386f893",
   "metadata": {},
   "outputs": [
    {
     "data": {
      "text/plain": [
       "1186    0\n",
       "4071    1\n",
       "5461    1\n",
       "5787    1\n",
       "7445    0\n",
       "       ..\n",
       "5226    0\n",
       "5390    0\n",
       "860     0\n",
       "7603    1\n",
       "7270    1\n",
       "Name: target, Length: 5329, dtype: int64"
      ]
     },
     "execution_count": 25,
     "metadata": {},
     "output_type": "execute_result"
    }
   ],
   "source": [
    "train_target"
   ]
  },
  {
   "cell_type": "markdown",
   "id": "184f67bc",
   "metadata": {},
   "source": [
    "## Visualizing the model's performance"
   ]
  },
  {
   "cell_type": "code",
   "execution_count": 30,
   "id": "d0d7c96f",
   "metadata": {},
   "outputs": [
    {
     "name": "stdout",
     "output_type": "stream",
     "text": [
      "72/72 [==============================] - 0s 7ms/step\n"
     ]
    },
    {
     "data": {
      "text/plain": [
       "{'accuracy': 71.2784588441331,\n",
       " 'precision': 0.7407183485742784,\n",
       " 'recall': 0.712784588441331,\n",
       " 'f1': 0.7122526423772021}"
      ]
     },
     "execution_count": 30,
     "metadata": {},
     "output_type": "execute_result"
    }
   ],
   "source": [
    "model_0_preds = model_0.predict(val_dataset_0)\n",
    "model_0_results = calculate_results(tf.round(model_0_preds), val_target)\n",
    "model_0_results"
   ]
  },
  {
   "cell_type": "code",
   "execution_count": null,
   "id": "180adc7e",
   "metadata": {},
   "outputs": [],
   "source": []
  }
 ],
 "metadata": {
  "kernelspec": {
   "display_name": "Python 3 (ipykernel)",
   "language": "python",
   "name": "python3"
  },
  "language_info": {
   "codemirror_mode": {
    "name": "ipython",
    "version": 3
   },
   "file_extension": ".py",
   "mimetype": "text/x-python",
   "name": "python",
   "nbconvert_exporter": "python",
   "pygments_lexer": "ipython3",
   "version": "3.11.2"
  }
 },
 "nbformat": 4,
 "nbformat_minor": 5
}
